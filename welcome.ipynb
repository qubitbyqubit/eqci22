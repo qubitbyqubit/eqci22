{
 "cells": [
  {
   "cell_type": "markdown",
   "id": "331d8bd7-fa2f-4ab5-a0f4-dbe2c1c60300",
   "metadata": {
    "tags": []
   },
   "source": [
    "<div class=\"alert alert-info\">\n",
    "    <h1><strong>Welcome to the 2022 Undergraduate Internship Program!</strong></h1>\n",
    "    <h2>This notebook will give a short tutorial on using Jupyter Notebooks and IQX</h2>\n",
    "</div>\n",
    "\n",
    "## First, let's check if all the files were moved in correctly! \n",
    "On your left you should see two folders called \"Lab\" and \"Lecture\" containing all the coding excercises for the program.\n",
    "___"
   ]
  },
  {
   "cell_type": "markdown",
   "id": "5dcaaebe-a2a9-461e-b15f-487a31afc0fe",
   "metadata": {},
   "source": [
    "# Using Jupyter Notebooks\n",
    "You are currently viewing a jupyter notebook in the IBM Quantum Lab.\n",
    "Jupyter notebooks do two things:\n",
    "1. They allow you to interactively run python code.\n",
    "2. They allow for description cells to contain instructions and explainations.\n",
    "\n",
    "The page is split into a series of *cells*, you can see which cell is active by looking at the blue bar on the left hand side of the page. Each cell is either a `code` cell or a ***markdown*** cell - markdown just means text. You can change the cell type by using the drop down on the toolbar at the top of the page.\n",
    "\n",
    "\n",
    "\n",
    "### Writing in cells\n",
    "Jupyter has two modes: `edit` mode and `command` mode. If you can see a cursor blinking then you're in edit mode. You can always *click* into any cell\n",
    "> The shortcuts to switch between edit/command modes are `esc` and `enter`:  `esc` will place you in `command` mode (useful for shortcuts), and `enter` will put you back in `edit` mode.\n",
    "\n",
    "### Adding new cells\n",
    "Click the `+` button at the top of the page to add a new cell.\n",
    ">The shortcut is `esc` followed by `b`\n",
    "\n",
    "### Running Cells\n",
    "Click the `▶`button at the top to run a cell. ***Markdown*** cells will render, and `Code` cells will execute.\n",
    ">The shortcut is `Shift`+`enter`\n",
    "\n",
    "### Deleting Cells\n",
    "On the very top menu bar go to *edit* > *Delete Cells*\n",
    ">The shortcut is `esc` followed by `d` and `d` (yes you have to press d twice)\n",
    "\n",
    "___\n",
    "\n",
    "## Let's try it out:"
   ]
  },
  {
   "cell_type": "code",
   "execution_count": null,
   "id": "2c5719de-32f8-4262-a8ca-a04022de2ae0",
   "metadata": {},
   "outputs": [],
   "source": [
    "'''Run this code cell!'''\n",
    "# Bit of python:\n",
    "for i in range(5):\n",
    "    print('Hello, World!')"
   ]
  },
  {
   "cell_type": "code",
   "execution_count": 7,
   "id": "3b9b2bc3-e975-4557-a869-fc3d1f5df1e9",
   "metadata": {},
   "outputs": [],
   "source": [
    "'''Add a code cell below me that prints the variable'''\n",
    "variable = \"I'm a variable\""
   ]
  },
  {
   "cell_type": "markdown",
   "id": "f4f88732-8966-4ffc-83b2-8e8af3b72587",
   "metadata": {},
   "source": [
    "# Click into this markdown cell and then run it to render the equation:\n",
    "\\begin{align}\n",
    "    i = \\sqrt{-1}\n",
    "\\end{align}"
   ]
  }
 ],
 "metadata": {
  "kernelspec": {
   "display_name": "Python 3 (ipykernel)",
   "language": "python",
   "name": "python3"
  },
  "language_info": {
   "codemirror_mode": {
    "name": "ipython",
    "version": 3
   },
   "file_extension": ".py",
   "mimetype": "text/x-python",
   "name": "python",
   "nbconvert_exporter": "python",
   "pygments_lexer": "ipython3",
   "version": "3.9.5"
  },
  "widgets": {
   "application/vnd.jupyter.widget-state+json": {
    "state": {},
    "version_major": 2,
    "version_minor": 0
   }
  }
 },
 "nbformat": 4,
 "nbformat_minor": 5
}
