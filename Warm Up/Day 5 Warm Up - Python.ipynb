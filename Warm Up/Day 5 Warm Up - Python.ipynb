{
 "cells": [
  {
   "cell_type": "markdown",
   "metadata": {
    "jupyter": {
     "outputs_hidden": false
    },
    "tags": []
   },
   "source": [
    "# Palindrome Numbers\n",
    "\n",
    ">This is a `leetcode.com` question\n",
    "\n",
    "A **palindrome** is a word or phrase that reads forwards the same as it reads backwards:\n",
    "* For example, `Racecar` and `A Man, a plan, a canal, panama` are both palindromes!\n",
    "\n",
    "### But what about a palindrome number?\n",
    "\n",
    "Essentially it is the same thing, a number that reads the same forwards and backwards!\n",
    "* For example, `454` is a palindorom whereas `456` is not.\n",
    "\n",
    "## The Problem\n",
    "\n",
    "**Given an integer `x` return `True` if `x` is a palindrome number**\n",
    "\n",
    "### Examples\n",
    "\n",
    "**1.**\n",
    "```python\n",
    "Input: x = 7887\n",
    "Output: True\n",
    "```\n",
    "**2.**\n",
    "```python\n",
    "Input: x = -7887\n",
    "Output: False\n",
    "```\n",
    "\n",
    "**3.**\n",
    "```python\n",
    "Input: x = 78987\n",
    "Output: True\n",
    "```"
   ]
  },
  {
   "cell_type": "code",
   "execution_count": null,
   "metadata": {},
   "outputs": [],
   "source": []
  }
 ],
 "metadata": {
  "kernelspec": {
   "display_name": "Python 3 (ipykernel)",
   "language": "python",
   "name": "python3"
  },
  "language_info": {
   "codemirror_mode": {
    "name": "ipython",
    "version": 3
   },
   "file_extension": ".py",
   "mimetype": "text/x-python",
   "name": "python",
   "nbconvert_exporter": "python",
   "pygments_lexer": "ipython3",
   "version": "3.9.2"
  }
 },
 "nbformat": 4,
 "nbformat_minor": 4
}
