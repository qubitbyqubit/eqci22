{
 "cells": [
  {
   "cell_type": "markdown",
   "metadata": {
    "jupyter": {
     "outputs_hidden": false
    }
   },
   "source": [
    "# Two Sum\n",
    "\n",
    "This is a classic question! If an interviewer asks you this, you're in luck!\n",
    "\n",
    "You are given two arrays of integers `nums` and `target`, your task is to return the *indices* such of the two elements of `num` that sum to the value of `target`.\n",
    "\n",
    "### Example\n",
    "\n",
    "```python\n",
    "Input: nums = [2,1,5,6], target = 3\n",
    "Output: [0,1]\n",
    "```\n",
    "This works because `nums[0] + nums[1] == 3` therefore we return a list of only the indices: `[0,1]`\n",
    "\n",
    "### Additional constraints\n",
    "\n",
    "Each input has exactly one solution, and the same element cannot be used twice."
   ]
  },
  {
   "cell_type": "code",
   "execution_count": null,
   "metadata": {},
   "outputs": [],
   "source": []
  }
 ],
 "metadata": {
  "kernelspec": {
   "display_name": "Python 3 (ipykernel)",
   "language": "python",
   "name": "python3"
  },
  "language_info": {
   "codemirror_mode": {
    "name": "ipython",
    "version": 3
   },
   "file_extension": ".py",
   "mimetype": "text/x-python",
   "name": "python",
   "nbconvert_exporter": "python",
   "pygments_lexer": "ipython3",
   "version": "3.9.5"
  }
 },
 "nbformat": 4,
 "nbformat_minor": 4
}
