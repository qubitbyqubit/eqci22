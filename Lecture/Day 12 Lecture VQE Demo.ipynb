{
 "cells": [
  {
   "cell_type": "code",
   "execution_count": 3,
   "id": "018f5191-0f03-4967-8c4b-e038d5fafc29",
   "metadata": {
    "slideshow": {
     "slide_type": "skip"
    }
   },
   "outputs": [],
   "source": [
    "# Imports!\n",
    "from qiskit import Aer, IBMQ\n",
    "from qiskit_optimization.applications import Knapsack\n",
    "from qiskit_optimization.converters import QuadraticProgramToQubo\n",
    "from qiskit.circuit.library import EfficientSU2, QAOAAnsatz\n",
    "from qiskit.algorithms.optimizers import SPSA, COBYLA\n",
    "from qiskit.algorithms import VQE\n",
    "from qiskit_optimization.algorithms import MinimumEigenOptimizer"
   ]
  },
  {
   "cell_type": "markdown",
   "id": "cb3ea3ab-7dda-4dc3-afaf-c068d8248a6e",
   "metadata": {
    "slideshow": {
     "slide_type": "slide"
    }
   },
   "source": [
    "# Coding with a VQE \n",
    "## The Knapsack Problem"
   ]
  },
  {
   "cell_type": "markdown",
   "id": "12a1c476-cc43-4780-ac24-36b89e168831",
   "metadata": {
    "slideshow": {
     "slide_type": "fragment"
    }
   },
   "source": [
    "### The knapsack problem is the classic combinatorial optimization problem:\n",
    "\n",
    "* Imagine you have a knapsack and you are packing it for a trip, \n",
    "* You have a whole bunch of items that you can put into it, each have unique values and weights. \n",
    "* Ideally you would want to take everything, but that would weight too much to carry,\n",
    "* Instead you take a combination of items that have the highest value while being under the max weight."
   ]
  },
  {
   "cell_type": "markdown",
   "id": "485dd319-bf21-476a-89af-fa1c19b96881",
   "metadata": {
    "slideshow": {
     "slide_type": "slide"
    }
   },
   "source": [
    "### More fomally:\n",
    "\n",
    "Given a set of items, each with a weight and a value, determine the number of each item to include in a collection so that the total weight is less than or equal to a given limit and the total value is as large as possible."
   ]
  },
  {
   "cell_type": "markdown",
   "id": "b956ec99-014a-4152-816b-4d0366da5e61",
   "metadata": {
    "slideshow": {
     "slide_type": "fragment"
    }
   },
   "source": [
    "### The Knapsack Problem in the real world:\n",
    "\n",
    "This kind of problem often arises in resource allocation where the decision makers have to choose from a set of non-divisible projects or tasks under a fixed budget or time constraint, respectively."
   ]
  },
  {
   "cell_type": "markdown",
   "id": "b94a693f-f89a-4d8b-97f0-374bebe9f584",
   "metadata": {
    "slideshow": {
     "slide_type": "slide"
    }
   },
   "source": [
    "# Let's see it in code! Setting up the problem\n",
    "\n",
    "In this part, we will define the knapsack problem. Qiskit has a built-in function called `Knapsack` that we will use to define the problem. \n",
    "\n",
    "We define a list of values, a list of weights, the maximum weight, and then put it all together into a variable called `knapsack_problem` using the Knapsack function."
   ]
  },
  {
   "cell_type": "code",
   "execution_count": 10,
   "id": "73415f2d-6cd2-4f55-89fe-da8035fa8e32",
   "metadata": {
    "slideshow": {
     "slide_type": "fragment"
    }
   },
   "outputs": [],
   "source": [
    "# BLOCK 2 - Defining the knapsack problem. We define a list of values, a list of weights, the maximum weight, and then\n",
    "# put it all together into a variable called `problem' using the Knapsack function.\n",
    "values = [4, 2, 5, 10, 13, 2, 5, 6]   # list of the values of items\n",
    "weights = [3, 1, 2, 6, 6, 3, 4, 7]   # list of the weights of items\n",
    "max_weight = 10            # maximum weight capacity (knapsack capacity)\n",
    "\n",
    "knapsack_problem = Knapsack(values = values, weights = weights, max_weight = max_weight) #putting it all together"
   ]
  },
  {
   "cell_type": "markdown",
   "id": "76db2c1c-d0e4-4394-b3e3-57a4c829840f",
   "metadata": {
    "slideshow": {
     "slide_type": "skip"
    }
   },
   "source": [
    "Feel free to be creative here - enter your own combination of values, weights, and max_weight! For a first pass, we recommend keeping the number of individual values < 5 . You can try bigger problems later!"
   ]
  },
  {
   "cell_type": "markdown",
   "id": "04a764c7-7a09-4ad5-9d7b-b90bbeac9d41",
   "metadata": {
    "slideshow": {
     "slide_type": "slide"
    },
    "tags": []
   },
   "source": [
    "## Using VQE to solve the problem\n",
    "\n",
    "Let's solve the problem using VQE! We discussed roughly how VQE works in the prior discussion, now we can see it in action.\n",
    "\n",
    "Here we convert the knapsack problem to a form that a quantum computer can understand, and also find out the number of qubits required to solve the problem."
   ]
  },
  {
   "cell_type": "code",
   "execution_count": 11,
   "id": "d964688f-343f-49f1-85b3-4c2bcf037389",
   "metadata": {
    "slideshow": {
     "slide_type": "fragment"
    }
   },
   "outputs": [
    {
     "name": "stdout",
     "output_type": "stream",
     "text": [
      "number of qubits = 12\n"
     ]
    }
   ],
   "source": [
    "# BLOCK 3- Converting the knapsack problem to a quantum circuit, i.e., a colletion of quantum gates (or operators).\n",
    "# Run this block to convert the knapsack problem to a quantum operator, and print the number of qubits used.\n",
    "operator, offset = QuadraticProgramToQubo().convert(knapsack_problem.to_quadratic_program()).to_ising()\n",
    "print(\"number of qubits =\",operator.num_qubits)"
   ]
  },
  {
   "cell_type": "markdown",
   "id": "942711f9-61e4-4867-b5fa-9630aac3569a",
   "metadata": {
    "slideshow": {
     "slide_type": "skip"
    }
   },
   "source": [
    "Next, we will set up VQE. We will specify the tunable circuit using `EfficientSU2`. YOU WILL NEED TO FILL CODE HERE!!!\n",
    "\n",
    "We will also specify the classical optimizer we want to use. Remember that hybrid algorithms have a tunable quantum circuit, and a classical computer that tells it which parameters to use. This optimizer is the classical part of the hybrid algorithm.  We will use a popular classical optimization algorithm known as SPSA. You do not need to fill code here - we have filled it out for you.\n",
    "\n",
    "We will use a built-in Qiskit function named `VQE` to put together all this information to solve the problem using the VQE algorithm. Again, we have completed this step for you."
   ]
  },
  {
   "cell_type": "code",
   "execution_count": 9,
   "id": "28ef3c25",
   "metadata": {
    "slideshow": {
     "slide_type": "skip"
    }
   },
   "outputs": [],
   "source": [
    "# We define our tunable circuit for VQE. Here, we will choose EfficientSU2.\n",
    "# We define which classical optimizer we want to use - here we will use one called SPSA\n",
    "# We tell our code to use VQE with the tunable circuit, the optimizer, and the quantum instance"
   ]
  },
  {
   "cell_type": "code",
   "execution_count": 6,
   "id": "a3666c60-dc17-4620-b540-848efc0d4cd9",
   "metadata": {
    "slideshow": {
     "slide_type": "fragment"
    }
   },
   "outputs": [],
   "source": [
    "# BLOCK 4 - Setting up VQE.\n",
    "\n",
    "# FILL CODE HERE TO DEFINE THE TUNABLE QUANTUM CIRCUIT. SPECIFY THE CORRECT NUMBER OF QUBITS, AND CHOOSE THE NUMBER OF REPS AND THE LEVEL OF ENTANGLEMENT.\n",
    "tunable_circuit = EfficientSU2(num_qubits = operator.num_qubits, reps = 3, entanglement = 'full',insert_barriers=True ) \n",
    "\n",
    "optimizer = SPSA(maxiter=15) # Classical optimizer\n",
    "\n",
    "method = VQE(ansatz = tunable_circuit, optimizer = optimizer, quantum_instance = Aer.get_backend('qasm_simulator')) # Using the VQE algorithm "
   ]
  },
  {
   "cell_type": "markdown",
   "id": "56d370c2-0675-4135-8a02-a65c0b70dfc0",
   "metadata": {
    "slideshow": {
     "slide_type": "slide"
    }
   },
   "source": [
    "Let's visualize the circuit!"
   ]
  },
  {
   "cell_type": "code",
   "execution_count": 8,
   "id": "63fd52e8-42ff-4a0a-8b01-54a469c27897",
   "metadata": {
    "slideshow": {
     "slide_type": "fragment"
    }
   },
   "outputs": [
    {
     "data": {
      "text/html": [
       "<pre style=\"word-wrap: normal;white-space: pre;background: #fff0;line-height: 1.1;font-family: &quot;Courier New&quot;,Courier,monospace\">     ┌──────────┐ ┌──────────┐ ░                                              »\n",
       "q_0: ┤ Ry(θ[0]) ├─┤ Rz(θ[8]) ├─░───■────■────■─────────■─────────■────────────»\n",
       "     ├──────────┤ ├──────────┤ ░ ┌─┴─┐  │    │         │         │            »\n",
       "q_1: ┤ Ry(θ[1]) ├─┤ Rz(θ[9]) ├─░─┤ X ├──┼────┼────■────┼────■────┼────■───────»\n",
       "     ├──────────┤┌┴──────────┤ ░ └───┘┌─┴─┐  │  ┌─┴─┐  │    │    │    │       »\n",
       "q_2: ┤ Ry(θ[2]) ├┤ Rz(θ[10]) ├─░──────┤ X ├──┼──┤ X ├──┼────┼────┼────┼────■──»\n",
       "     ├──────────┤├───────────┤ ░      └───┘┌─┴─┐└───┘  │  ┌─┴─┐  │    │  ┌─┴─┐»\n",
       "q_3: ┤ Ry(θ[3]) ├┤ Rz(θ[11]) ├─░───────────┤ X ├───────┼──┤ X ├──┼────┼──┤ X ├»\n",
       "     ├──────────┤├───────────┤ ░           └───┘     ┌─┴─┐└───┘  │  ┌─┴─┐└───┘»\n",
       "q_4: ┤ Ry(θ[4]) ├┤ Rz(θ[12]) ├─░─────────────────────┤ X ├───────┼──┤ X ├─────»\n",
       "     ├──────────┤├───────────┤ ░                     └───┘     ┌─┴─┐└───┘     »\n",
       "q_5: ┤ Ry(θ[5]) ├┤ Rz(θ[13]) ├─░───────────────────────────────┤ X ├──────────»\n",
       "     ├──────────┤├───────────┤ ░                               └───┘          »\n",
       "q_6: ┤ Ry(θ[6]) ├┤ Rz(θ[14]) ├─░──────────────────────────────────────────────»\n",
       "     ├──────────┤├───────────┤ ░                                              »\n",
       "q_7: ┤ Ry(θ[7]) ├┤ Rz(θ[15]) ├─░──────────────────────────────────────────────»\n",
       "     └──────────┘└───────────┘ ░                                              »\n",
       "«                                                                           »\n",
       "«q_0: ──■──────────────■────────────────────────────────────────────────────»\n",
       "«       │              │                                                    »\n",
       "«q_1: ──┼────■─────────┼────■──────────────■────────────────────────────────»\n",
       "«       │    │         │    │              │                                »\n",
       "«q_2: ──┼────┼────■────┼────┼────■─────────┼────■─────────■─────────────────»\n",
       "«       │    │    │    │    │    │         │    │         │                 »\n",
       "«q_3: ──┼────┼────┼────┼────┼────┼────■────┼────┼────■────┼────■─────────■──»\n",
       "«       │    │  ┌─┴─┐  │    │    │  ┌─┴─┐  │    │    │    │    │         │  »\n",
       "«q_4: ──┼────┼──┤ X ├──┼────┼────┼──┤ X ├──┼────┼────┼────┼────┼────■────┼──»\n",
       "«       │  ┌─┴─┐└───┘  │    │  ┌─┴─┐└───┘  │    │  ┌─┴─┐  │    │  ┌─┴─┐  │  »\n",
       "«q_5: ──┼──┤ X ├───────┼────┼──┤ X ├───────┼────┼──┤ X ├──┼────┼──┤ X ├──┼──»\n",
       "«     ┌─┴─┐└───┘       │  ┌─┴─┐└───┘       │  ┌─┴─┐└───┘  │  ┌─┴─┐└───┘  │  »\n",
       "«q_6: ┤ X ├────────────┼──┤ X ├────────────┼──┤ X ├───────┼──┤ X ├───────┼──»\n",
       "«     └───┘          ┌─┴─┐└───┘          ┌─┴─┐└───┘     ┌─┴─┐└───┘     ┌─┴─┐»\n",
       "«q_7: ───────────────┤ X ├───────────────┤ X ├──────────┤ X ├──────────┤ X ├»\n",
       "«                    └───┘               └───┘          └───┘          └───┘»\n",
       "«                               ░ ┌───────────┐┌───────────┐ ░                »\n",
       "«q_0: ──────────────────────────░─┤ Ry(θ[16]) ├┤ Rz(θ[24]) ├─░───■────■────■──»\n",
       "«                               ░ ├───────────┤├───────────┤ ░ ┌─┴─┐  │    │  »\n",
       "«q_1: ──────────────────────────░─┤ Ry(θ[17]) ├┤ Rz(θ[25]) ├─░─┤ X ├──┼────┼──»\n",
       "«                               ░ ├───────────┤├───────────┤ ░ └───┘┌─┴─┐  │  »\n",
       "«q_2: ──────────────────────────░─┤ Ry(θ[18]) ├┤ Rz(θ[26]) ├─░──────┤ X ├──┼──»\n",
       "«                               ░ ├───────────┤├───────────┤ ░      └───┘┌─┴─┐»\n",
       "«q_3: ──────────────────────────░─┤ Ry(θ[19]) ├┤ Rz(θ[27]) ├─░───────────┤ X ├»\n",
       "«                               ░ ├───────────┤├───────────┤ ░           └───┘»\n",
       "«q_4: ──■────■──────────────────░─┤ Ry(θ[20]) ├┤ Rz(θ[28]) ├─░────────────────»\n",
       "«       │    │                  ░ ├───────────┤├───────────┤ ░                »\n",
       "«q_5: ──┼────┼────■────■────────░─┤ Ry(θ[21]) ├┤ Rz(θ[29]) ├─░────────────────»\n",
       "«     ┌─┴─┐  │  ┌─┴─┐  │        ░ ├───────────┤├───────────┤ ░                »\n",
       "«q_6: ┤ X ├──┼──┤ X ├──┼────■───░─┤ Ry(θ[22]) ├┤ Rz(θ[30]) ├─░────────────────»\n",
       "«     └───┘┌─┴─┐└───┘┌─┴─┐┌─┴─┐ ░ ├───────────┤├───────────┤ ░                »\n",
       "«q_7: ─────┤ X ├─────┤ X ├┤ X ├─░─┤ Ry(θ[23]) ├┤ Rz(θ[31]) ├─░────────────────»\n",
       "«          └───┘     └───┘└───┘ ░ └───────────┘└───────────┘ ░                »\n",
       "«                                                                           »\n",
       "«q_0: ───────■─────────■──────────────■──────────────■──────────────────────»\n",
       "«            │         │              │              │                      »\n",
       "«q_1: ──■────┼────■────┼────■─────────┼────■─────────┼────■──────────────■──»\n",
       "«     ┌─┴─┐  │    │    │    │         │    │         │    │              │  »\n",
       "«q_2: ┤ X ├──┼────┼────┼────┼────■────┼────┼────■────┼────┼────■─────────┼──»\n",
       "«     └───┘  │  ┌─┴─┐  │    │  ┌─┴─┐  │    │    │    │    │    │         │  »\n",
       "«q_3: ───────┼──┤ X ├──┼────┼──┤ X ├──┼────┼────┼────┼────┼────┼────■────┼──»\n",
       "«          ┌─┴─┐└───┘  │  ┌─┴─┐└───┘  │    │  ┌─┴─┐  │    │    │  ┌─┴─┐  │  »\n",
       "«q_4: ─────┤ X ├───────┼──┤ X ├───────┼────┼──┤ X ├──┼────┼────┼──┤ X ├──┼──»\n",
       "«          └───┘     ┌─┴─┐└───┘       │  ┌─┴─┐└───┘  │    │  ┌─┴─┐└───┘  │  »\n",
       "«q_5: ───────────────┤ X ├────────────┼──┤ X ├───────┼────┼──┤ X ├───────┼──»\n",
       "«                    └───┘          ┌─┴─┐└───┘       │  ┌─┴─┐└───┘       │  »\n",
       "«q_6: ──────────────────────────────┤ X ├────────────┼──┤ X ├────────────┼──»\n",
       "«                                   └───┘          ┌─┴─┐└───┘          ┌─┴─┐»\n",
       "«q_7: ─────────────────────────────────────────────┤ X ├───────────────┤ X ├»\n",
       "«                                                  └───┘               └───┘»\n",
       "«                                                             ░ ┌───────────┐»\n",
       "«q_0: ────────────────────────────────────────────────────────░─┤ Ry(θ[32]) ├»\n",
       "«                                                             ░ ├───────────┤»\n",
       "«q_1: ────────────────────────────────────────────────────────░─┤ Ry(θ[33]) ├»\n",
       "«                                                             ░ ├───────────┤»\n",
       "«q_2: ──■─────────■───────────────────────────────────────────░─┤ Ry(θ[34]) ├»\n",
       "«       │         │                                           ░ ├───────────┤»\n",
       "«q_3: ──┼────■────┼────■─────────■────────────────────────────░─┤ Ry(θ[35]) ├»\n",
       "«       │    │    │    │         │                            ░ ├───────────┤»\n",
       "«q_4: ──┼────┼────┼────┼────■────┼────■────■──────────────────░─┤ Ry(θ[36]) ├»\n",
       "«       │  ┌─┴─┐  │    │  ┌─┴─┐  │    │    │                  ░ ├───────────┤»\n",
       "«q_5: ──┼──┤ X ├──┼────┼──┤ X ├──┼────┼────┼────■────■────────░─┤ Ry(θ[37]) ├»\n",
       "«     ┌─┴─┐└───┘  │  ┌─┴─┐└───┘  │  ┌─┴─┐  │  ┌─┴─┐  │        ░ ├───────────┤»\n",
       "«q_6: ┤ X ├───────┼──┤ X ├───────┼──┤ X ├──┼──┤ X ├──┼────■───░─┤ Ry(θ[38]) ├»\n",
       "«     └───┘     ┌─┴─┐└───┘     ┌─┴─┐└───┘┌─┴─┐└───┘┌─┴─┐┌─┴─┐ ░ ├───────────┤»\n",
       "«q_7: ──────────┤ X ├──────────┤ X ├─────┤ X ├─────┤ X ├┤ X ├─░─┤ Ry(θ[39]) ├»\n",
       "«               └───┘          └───┘     └───┘     └───┘└───┘ ░ └───────────┘»\n",
       "«     ┌───────────┐ ░                                                        »\n",
       "«q_0: ┤ Rz(θ[40]) ├─░───■────■────■─────────■─────────■──────────────■───────»\n",
       "«     ├───────────┤ ░ ┌─┴─┐  │    │         │         │              │       »\n",
       "«q_1: ┤ Rz(θ[41]) ├─░─┤ X ├──┼────┼────■────┼────■────┼────■─────────┼────■──»\n",
       "«     ├───────────┤ ░ └───┘┌─┴─┐  │  ┌─┴─┐  │    │    │    │         │    │  »\n",
       "«q_2: ┤ Rz(θ[42]) ├─░──────┤ X ├──┼──┤ X ├──┼────┼────┼────┼────■────┼────┼──»\n",
       "«     ├───────────┤ ░      └───┘┌─┴─┐└───┘  │  ┌─┴─┐  │    │  ┌─┴─┐  │    │  »\n",
       "«q_3: ┤ Rz(θ[43]) ├─░───────────┤ X ├───────┼──┤ X ├──┼────┼──┤ X ├──┼────┼──»\n",
       "«     ├───────────┤ ░           └───┘     ┌─┴─┐└───┘  │  ┌─┴─┐└───┘  │    │  »\n",
       "«q_4: ┤ Rz(θ[44]) ├─░─────────────────────┤ X ├───────┼──┤ X ├───────┼────┼──»\n",
       "«     ├───────────┤ ░                     └───┘     ┌─┴─┐└───┘       │  ┌─┴─┐»\n",
       "«q_5: ┤ Rz(θ[45]) ├─░───────────────────────────────┤ X ├────────────┼──┤ X ├»\n",
       "«     ├───────────┤ ░                               └───┘          ┌─┴─┐└───┘»\n",
       "«q_6: ┤ Rz(θ[46]) ├─░──────────────────────────────────────────────┤ X ├─────»\n",
       "«     ├───────────┤ ░                                              └───┘     »\n",
       "«q_7: ┤ Rz(θ[47]) ├─░────────────────────────────────────────────────────────»\n",
       "«     └───────────┘ ░                                                        »\n",
       "«                                                                           »\n",
       "«q_0: ───────■──────────────────────────────────────────────────────────────»\n",
       "«            │                                                              »\n",
       "«q_1: ───────┼────■──────────────■──────────────────────────────────────────»\n",
       "«            │    │              │                                          »\n",
       "«q_2: ──■────┼────┼────■─────────┼────■─────────■───────────────────────────»\n",
       "«       │    │    │    │         │    │         │                           »\n",
       "«q_3: ──┼────┼────┼────┼────■────┼────┼────■────┼────■─────────■────────────»\n",
       "«     ┌─┴─┐  │    │    │  ┌─┴─┐  │    │    │    │    │         │            »\n",
       "«q_4: ┤ X ├──┼────┼────┼──┤ X ├──┼────┼────┼────┼────┼────■────┼────■────■──»\n",
       "«     └───┘  │    │  ┌─┴─┐└───┘  │    │  ┌─┴─┐  │    │  ┌─┴─┐  │    │    │  »\n",
       "«q_5: ───────┼────┼──┤ X ├───────┼────┼──┤ X ├──┼────┼──┤ X ├──┼────┼────┼──»\n",
       "«            │  ┌─┴─┐└───┘       │  ┌─┴─┐└───┘  │  ┌─┴─┐└───┘  │  ┌─┴─┐  │  »\n",
       "«q_6: ───────┼──┤ X ├────────────┼──┤ X ├───────┼──┤ X ├───────┼──┤ X ├──┼──»\n",
       "«          ┌─┴─┐└───┘          ┌─┴─┐└───┘     ┌─┴─┐└───┘     ┌─┴─┐└───┘┌─┴─┐»\n",
       "«q_7: ─────┤ X ├───────────────┤ X ├──────────┤ X ├──────────┤ X ├─────┤ X ├»\n",
       "«          └───┘               └───┘          └───┘          └───┘     └───┘»\n",
       "«                     ░ ┌───────────┐┌───────────┐\n",
       "«q_0: ────────────────░─┤ Ry(θ[48]) ├┤ Rz(θ[56]) ├\n",
       "«                     ░ ├───────────┤├───────────┤\n",
       "«q_1: ────────────────░─┤ Ry(θ[49]) ├┤ Rz(θ[57]) ├\n",
       "«                     ░ ├───────────┤├───────────┤\n",
       "«q_2: ────────────────░─┤ Ry(θ[50]) ├┤ Rz(θ[58]) ├\n",
       "«                     ░ ├───────────┤├───────────┤\n",
       "«q_3: ────────────────░─┤ Ry(θ[51]) ├┤ Rz(θ[59]) ├\n",
       "«                     ░ ├───────────┤├───────────┤\n",
       "«q_4: ────────────────░─┤ Ry(θ[52]) ├┤ Rz(θ[60]) ├\n",
       "«                     ░ ├───────────┤├───────────┤\n",
       "«q_5: ──■────■────────░─┤ Ry(θ[53]) ├┤ Rz(θ[61]) ├\n",
       "«     ┌─┴─┐  │        ░ ├───────────┤├───────────┤\n",
       "«q_6: ┤ X ├──┼────■───░─┤ Ry(θ[54]) ├┤ Rz(θ[62]) ├\n",
       "«     └───┘┌─┴─┐┌─┴─┐ ░ ├───────────┤├───────────┤\n",
       "«q_7: ─────┤ X ├┤ X ├─░─┤ Ry(θ[55]) ├┤ Rz(θ[63]) ├\n",
       "«          └───┘└───┘ ░ └───────────┘└───────────┘</pre>"
      ],
      "text/plain": [
       "     ┌──────────┐ ┌──────────┐ ░                                              »\n",
       "q_0: ┤ Ry(θ[0]) ├─┤ Rz(θ[8]) ├─░───■────■────■─────────■─────────■────────────»\n",
       "     ├──────────┤ ├──────────┤ ░ ┌─┴─┐  │    │         │         │            »\n",
       "q_1: ┤ Ry(θ[1]) ├─┤ Rz(θ[9]) ├─░─┤ X ├──┼────┼────■────┼────■────┼────■───────»\n",
       "     ├──────────┤┌┴──────────┤ ░ └───┘┌─┴─┐  │  ┌─┴─┐  │    │    │    │       »\n",
       "q_2: ┤ Ry(θ[2]) ├┤ Rz(θ[10]) ├─░──────┤ X ├──┼──┤ X ├──┼────┼────┼────┼────■──»\n",
       "     ├──────────┤├───────────┤ ░      └───┘┌─┴─┐└───┘  │  ┌─┴─┐  │    │  ┌─┴─┐»\n",
       "q_3: ┤ Ry(θ[3]) ├┤ Rz(θ[11]) ├─░───────────┤ X ├───────┼──┤ X ├──┼────┼──┤ X ├»\n",
       "     ├──────────┤├───────────┤ ░           └───┘     ┌─┴─┐└───┘  │  ┌─┴─┐└───┘»\n",
       "q_4: ┤ Ry(θ[4]) ├┤ Rz(θ[12]) ├─░─────────────────────┤ X ├───────┼──┤ X ├─────»\n",
       "     ├──────────┤├───────────┤ ░                     └───┘     ┌─┴─┐└───┘     »\n",
       "q_5: ┤ Ry(θ[5]) ├┤ Rz(θ[13]) ├─░───────────────────────────────┤ X ├──────────»\n",
       "     ├──────────┤├───────────┤ ░                               └───┘          »\n",
       "q_6: ┤ Ry(θ[6]) ├┤ Rz(θ[14]) ├─░──────────────────────────────────────────────»\n",
       "     ├──────────┤├───────────┤ ░                                              »\n",
       "q_7: ┤ Ry(θ[7]) ├┤ Rz(θ[15]) ├─░──────────────────────────────────────────────»\n",
       "     └──────────┘└───────────┘ ░                                              »\n",
       "«                                                                           »\n",
       "«q_0: ──■──────────────■────────────────────────────────────────────────────»\n",
       "«       │              │                                                    »\n",
       "«q_1: ──┼────■─────────┼────■──────────────■────────────────────────────────»\n",
       "«       │    │         │    │              │                                »\n",
       "«q_2: ──┼────┼────■────┼────┼────■─────────┼────■─────────■─────────────────»\n",
       "«       │    │    │    │    │    │         │    │         │                 »\n",
       "«q_3: ──┼────┼────┼────┼────┼────┼────■────┼────┼────■────┼────■─────────■──»\n",
       "«       │    │  ┌─┴─┐  │    │    │  ┌─┴─┐  │    │    │    │    │         │  »\n",
       "«q_4: ──┼────┼──┤ X ├──┼────┼────┼──┤ X ├──┼────┼────┼────┼────┼────■────┼──»\n",
       "«       │  ┌─┴─┐└───┘  │    │  ┌─┴─┐└───┘  │    │  ┌─┴─┐  │    │  ┌─┴─┐  │  »\n",
       "«q_5: ──┼──┤ X ├───────┼────┼──┤ X ├───────┼────┼──┤ X ├──┼────┼──┤ X ├──┼──»\n",
       "«     ┌─┴─┐└───┘       │  ┌─┴─┐└───┘       │  ┌─┴─┐└───┘  │  ┌─┴─┐└───┘  │  »\n",
       "«q_6: ┤ X ├────────────┼──┤ X ├────────────┼──┤ X ├───────┼──┤ X ├───────┼──»\n",
       "«     └───┘          ┌─┴─┐└───┘          ┌─┴─┐└───┘     ┌─┴─┐└───┘     ┌─┴─┐»\n",
       "«q_7: ───────────────┤ X ├───────────────┤ X ├──────────┤ X ├──────────┤ X ├»\n",
       "«                    └───┘               └───┘          └───┘          └───┘»\n",
       "«                               ░ ┌───────────┐┌───────────┐ ░                »\n",
       "«q_0: ──────────────────────────░─┤ Ry(θ[16]) ├┤ Rz(θ[24]) ├─░───■────■────■──»\n",
       "«                               ░ ├───────────┤├───────────┤ ░ ┌─┴─┐  │    │  »\n",
       "«q_1: ──────────────────────────░─┤ Ry(θ[17]) ├┤ Rz(θ[25]) ├─░─┤ X ├──┼────┼──»\n",
       "«                               ░ ├───────────┤├───────────┤ ░ └───┘┌─┴─┐  │  »\n",
       "«q_2: ──────────────────────────░─┤ Ry(θ[18]) ├┤ Rz(θ[26]) ├─░──────┤ X ├──┼──»\n",
       "«                               ░ ├───────────┤├───────────┤ ░      └───┘┌─┴─┐»\n",
       "«q_3: ──────────────────────────░─┤ Ry(θ[19]) ├┤ Rz(θ[27]) ├─░───────────┤ X ├»\n",
       "«                               ░ ├───────────┤├───────────┤ ░           └───┘»\n",
       "«q_4: ──■────■──────────────────░─┤ Ry(θ[20]) ├┤ Rz(θ[28]) ├─░────────────────»\n",
       "«       │    │                  ░ ├───────────┤├───────────┤ ░                »\n",
       "«q_5: ──┼────┼────■────■────────░─┤ Ry(θ[21]) ├┤ Rz(θ[29]) ├─░────────────────»\n",
       "«     ┌─┴─┐  │  ┌─┴─┐  │        ░ ├───────────┤├───────────┤ ░                »\n",
       "«q_6: ┤ X ├──┼──┤ X ├──┼────■───░─┤ Ry(θ[22]) ├┤ Rz(θ[30]) ├─░────────────────»\n",
       "«     └───┘┌─┴─┐└───┘┌─┴─┐┌─┴─┐ ░ ├───────────┤├───────────┤ ░                »\n",
       "«q_7: ─────┤ X ├─────┤ X ├┤ X ├─░─┤ Ry(θ[23]) ├┤ Rz(θ[31]) ├─░────────────────»\n",
       "«          └───┘     └───┘└───┘ ░ └───────────┘└───────────┘ ░                »\n",
       "«                                                                           »\n",
       "«q_0: ───────■─────────■──────────────■──────────────■──────────────────────»\n",
       "«            │         │              │              │                      »\n",
       "«q_1: ──■────┼────■────┼────■─────────┼────■─────────┼────■──────────────■──»\n",
       "«     ┌─┴─┐  │    │    │    │         │    │         │    │              │  »\n",
       "«q_2: ┤ X ├──┼────┼────┼────┼────■────┼────┼────■────┼────┼────■─────────┼──»\n",
       "«     └───┘  │  ┌─┴─┐  │    │  ┌─┴─┐  │    │    │    │    │    │         │  »\n",
       "«q_3: ───────┼──┤ X ├──┼────┼──┤ X ├──┼────┼────┼────┼────┼────┼────■────┼──»\n",
       "«          ┌─┴─┐└───┘  │  ┌─┴─┐└───┘  │    │  ┌─┴─┐  │    │    │  ┌─┴─┐  │  »\n",
       "«q_4: ─────┤ X ├───────┼──┤ X ├───────┼────┼──┤ X ├──┼────┼────┼──┤ X ├──┼──»\n",
       "«          └───┘     ┌─┴─┐└───┘       │  ┌─┴─┐└───┘  │    │  ┌─┴─┐└───┘  │  »\n",
       "«q_5: ───────────────┤ X ├────────────┼──┤ X ├───────┼────┼──┤ X ├───────┼──»\n",
       "«                    └───┘          ┌─┴─┐└───┘       │  ┌─┴─┐└───┘       │  »\n",
       "«q_6: ──────────────────────────────┤ X ├────────────┼──┤ X ├────────────┼──»\n",
       "«                                   └───┘          ┌─┴─┐└───┘          ┌─┴─┐»\n",
       "«q_7: ─────────────────────────────────────────────┤ X ├───────────────┤ X ├»\n",
       "«                                                  └───┘               └───┘»\n",
       "«                                                             ░ ┌───────────┐»\n",
       "«q_0: ────────────────────────────────────────────────────────░─┤ Ry(θ[32]) ├»\n",
       "«                                                             ░ ├───────────┤»\n",
       "«q_1: ────────────────────────────────────────────────────────░─┤ Ry(θ[33]) ├»\n",
       "«                                                             ░ ├───────────┤»\n",
       "«q_2: ──■─────────■───────────────────────────────────────────░─┤ Ry(θ[34]) ├»\n",
       "«       │         │                                           ░ ├───────────┤»\n",
       "«q_3: ──┼────■────┼────■─────────■────────────────────────────░─┤ Ry(θ[35]) ├»\n",
       "«       │    │    │    │         │                            ░ ├───────────┤»\n",
       "«q_4: ──┼────┼────┼────┼────■────┼────■────■──────────────────░─┤ Ry(θ[36]) ├»\n",
       "«       │  ┌─┴─┐  │    │  ┌─┴─┐  │    │    │                  ░ ├───────────┤»\n",
       "«q_5: ──┼──┤ X ├──┼────┼──┤ X ├──┼────┼────┼────■────■────────░─┤ Ry(θ[37]) ├»\n",
       "«     ┌─┴─┐└───┘  │  ┌─┴─┐└───┘  │  ┌─┴─┐  │  ┌─┴─┐  │        ░ ├───────────┤»\n",
       "«q_6: ┤ X ├───────┼──┤ X ├───────┼──┤ X ├──┼──┤ X ├──┼────■───░─┤ Ry(θ[38]) ├»\n",
       "«     └───┘     ┌─┴─┐└───┘     ┌─┴─┐└───┘┌─┴─┐└───┘┌─┴─┐┌─┴─┐ ░ ├───────────┤»\n",
       "«q_7: ──────────┤ X ├──────────┤ X ├─────┤ X ├─────┤ X ├┤ X ├─░─┤ Ry(θ[39]) ├»\n",
       "«               └───┘          └───┘     └───┘     └───┘└───┘ ░ └───────────┘»\n",
       "«     ┌───────────┐ ░                                                        »\n",
       "«q_0: ┤ Rz(θ[40]) ├─░───■────■────■─────────■─────────■──────────────■───────»\n",
       "«     ├───────────┤ ░ ┌─┴─┐  │    │         │         │              │       »\n",
       "«q_1: ┤ Rz(θ[41]) ├─░─┤ X ├──┼────┼────■────┼────■────┼────■─────────┼────■──»\n",
       "«     ├───────────┤ ░ └───┘┌─┴─┐  │  ┌─┴─┐  │    │    │    │         │    │  »\n",
       "«q_2: ┤ Rz(θ[42]) ├─░──────┤ X ├──┼──┤ X ├──┼────┼────┼────┼────■────┼────┼──»\n",
       "«     ├───────────┤ ░      └───┘┌─┴─┐└───┘  │  ┌─┴─┐  │    │  ┌─┴─┐  │    │  »\n",
       "«q_3: ┤ Rz(θ[43]) ├─░───────────┤ X ├───────┼──┤ X ├──┼────┼──┤ X ├──┼────┼──»\n",
       "«     ├───────────┤ ░           └───┘     ┌─┴─┐└───┘  │  ┌─┴─┐└───┘  │    │  »\n",
       "«q_4: ┤ Rz(θ[44]) ├─░─────────────────────┤ X ├───────┼──┤ X ├───────┼────┼──»\n",
       "«     ├───────────┤ ░                     └───┘     ┌─┴─┐└───┘       │  ┌─┴─┐»\n",
       "«q_5: ┤ Rz(θ[45]) ├─░───────────────────────────────┤ X ├────────────┼──┤ X ├»\n",
       "«     ├───────────┤ ░                               └───┘          ┌─┴─┐└───┘»\n",
       "«q_6: ┤ Rz(θ[46]) ├─░──────────────────────────────────────────────┤ X ├─────»\n",
       "«     ├───────────┤ ░                                              └───┘     »\n",
       "«q_7: ┤ Rz(θ[47]) ├─░────────────────────────────────────────────────────────»\n",
       "«     └───────────┘ ░                                                        »\n",
       "«                                                                           »\n",
       "«q_0: ───────■──────────────────────────────────────────────────────────────»\n",
       "«            │                                                              »\n",
       "«q_1: ───────┼────■──────────────■──────────────────────────────────────────»\n",
       "«            │    │              │                                          »\n",
       "«q_2: ──■────┼────┼────■─────────┼────■─────────■───────────────────────────»\n",
       "«       │    │    │    │         │    │         │                           »\n",
       "«q_3: ──┼────┼────┼────┼────■────┼────┼────■────┼────■─────────■────────────»\n",
       "«     ┌─┴─┐  │    │    │  ┌─┴─┐  │    │    │    │    │         │            »\n",
       "«q_4: ┤ X ├──┼────┼────┼──┤ X ├──┼────┼────┼────┼────┼────■────┼────■────■──»\n",
       "«     └───┘  │    │  ┌─┴─┐└───┘  │    │  ┌─┴─┐  │    │  ┌─┴─┐  │    │    │  »\n",
       "«q_5: ───────┼────┼──┤ X ├───────┼────┼──┤ X ├──┼────┼──┤ X ├──┼────┼────┼──»\n",
       "«            │  ┌─┴─┐└───┘       │  ┌─┴─┐└───┘  │  ┌─┴─┐└───┘  │  ┌─┴─┐  │  »\n",
       "«q_6: ───────┼──┤ X ├────────────┼──┤ X ├───────┼──┤ X ├───────┼──┤ X ├──┼──»\n",
       "«          ┌─┴─┐└───┘          ┌─┴─┐└───┘     ┌─┴─┐└───┘     ┌─┴─┐└───┘┌─┴─┐»\n",
       "«q_7: ─────┤ X ├───────────────┤ X ├──────────┤ X ├──────────┤ X ├─────┤ X ├»\n",
       "«          └───┘               └───┘          └───┘          └───┘     └───┘»\n",
       "«                     ░ ┌───────────┐┌───────────┐\n",
       "«q_0: ────────────────░─┤ Ry(θ[48]) ├┤ Rz(θ[56]) ├\n",
       "«                     ░ ├───────────┤├───────────┤\n",
       "«q_1: ────────────────░─┤ Ry(θ[49]) ├┤ Rz(θ[57]) ├\n",
       "«                     ░ ├───────────┤├───────────┤\n",
       "«q_2: ────────────────░─┤ Ry(θ[50]) ├┤ Rz(θ[58]) ├\n",
       "«                     ░ ├───────────┤├───────────┤\n",
       "«q_3: ────────────────░─┤ Ry(θ[51]) ├┤ Rz(θ[59]) ├\n",
       "«                     ░ ├───────────┤├───────────┤\n",
       "«q_4: ────────────────░─┤ Ry(θ[52]) ├┤ Rz(θ[60]) ├\n",
       "«                     ░ ├───────────┤├───────────┤\n",
       "«q_5: ──■────■────────░─┤ Ry(θ[53]) ├┤ Rz(θ[61]) ├\n",
       "«     ┌─┴─┐  │        ░ ├───────────┤├───────────┤\n",
       "«q_6: ┤ X ├──┼────■───░─┤ Ry(θ[54]) ├┤ Rz(θ[62]) ├\n",
       "«     └───┘┌─┴─┐┌─┴─┐ ░ ├───────────┤├───────────┤\n",
       "«q_7: ─────┤ X ├┤ X ├─░─┤ Ry(θ[55]) ├┤ Rz(θ[63]) ├\n",
       "«          └───┘└───┘ ░ └───────────┘└───────────┘"
      ]
     },
     "execution_count": 8,
     "metadata": {},
     "output_type": "execute_result"
    }
   ],
   "source": [
    "# Block 5 - Visualize your circuit by drawing it\n",
    "tunable_circuit.decompose().draw()"
   ]
  },
  {
   "cell_type": "markdown",
   "id": "6bfedca4-281f-4523-91b7-e0adaf0e2595",
   "metadata": {
    "slideshow": {
     "slide_type": "skip"
    }
   },
   "source": [
    "Finally, let' solve the problem using VQE! We have written code in the block below to solve the problem. Don't worry about the code - focus on the results you get. \n",
    "\n",
    "The results will be displayed as follows:\n",
    "\n",
    "`result:`\n",
    "\n",
    "`optimal function value: 17.0`\n",
    "\n",
    "`optimal value: [0. 1. 1. 1.]`\n",
    "\n",
    "`status: SUCCESS`\n",
    "\n",
    "`solution:`\n",
    "\n",
    " `[1, 2, 3]`\n",
    " \n",
    "Here, `optimal function value: 17.0` is the optimized value of your knapsack found by VQE. `optimal value: [0. 1. 1. 1.]` shows which items you should put in your knapsack to get this value - 0 means that you should omit this item, and 1 means you should keep it. In this example, you should keep the items with index 1, 2, and 3, and omit the item with index 0 (remember indices begin at 0). This successful solution is also displayed separately as `solution: [1, 2, 3]` . \n",
    "\n",
    "Can you verify that VQE solves the knapsack problem correctly?"
   ]
  },
  {
   "cell_type": "code",
   "execution_count": 9,
   "id": "6c40aa89-35b0-49d3-a2e2-a4bcbba6ec5d",
   "metadata": {
    "slideshow": {
     "slide_type": "slide"
    }
   },
   "outputs": [
    {
     "name": "stdout",
     "output_type": "stream",
     "text": [
      "result:\n",
      " optimal function value: 17.0\n",
      "optimal value: [0. 1. 1. 1.]\n",
      "status: SUCCESS\n",
      "\n",
      "solution:\n",
      " [1, 2, 3]\n"
     ]
    }
   ],
   "source": [
    "# BLOCK 6 - Running VQE and printing results. \n",
    "calc = MinimumEigenOptimizer(method)\n",
    "result = calc.solve(knapsack_problem.to_quadratic_program())\n",
    "print('result:\\n', result)\n",
    "print('\\nsolution:\\n', knapsack_problem.interpret(result))"
   ]
  },
  {
   "cell_type": "code",
   "execution_count": null,
   "id": "5d07a73f-26ae-4326-92a1-b47448b2a3d2",
   "metadata": {},
   "outputs": [],
   "source": []
  }
 ],
 "metadata": {
  "celltoolbar": "Slideshow",
  "kernelspec": {
   "display_name": "Python 3 (ipykernel)",
   "language": "python",
   "name": "python3"
  },
  "language_info": {
   "codemirror_mode": {
    "name": "ipython",
    "version": 3
   },
   "file_extension": ".py",
   "mimetype": "text/x-python",
   "name": "python",
   "nbconvert_exporter": "python",
   "pygments_lexer": "ipython3",
   "version": "3.9.7"
  }
 },
 "nbformat": 4,
 "nbformat_minor": 5
}
