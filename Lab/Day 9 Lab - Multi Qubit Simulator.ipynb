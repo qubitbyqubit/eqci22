{
 "cells": [
  {
   "cell_type": "markdown",
   "id": "c305966e-0c10-4899-9180-0438c4e20fdd",
   "metadata": {},
   "source": [
    "# This is a test!"
   ]
  },
  {
   "cell_type": "code",
   "execution_count": null,
   "id": "9d212bb2-505d-49e7-b179-3d4aaa83b3a6",
   "metadata": {},
   "outputs": [],
   "source": []
  }
 ],
 "metadata": {
  "kernelspec": {
   "display_name": "Python 3 (ipykernel)",
   "language": "python",
   "name": "python3"
  },
  "language_info": {
   "codemirror_mode": {
    "name": "ipython",
    "version": 3
   },
   "file_extension": ".py",
   "mimetype": "text/x-python",
   "name": "python",
   "nbconvert_exporter": "python",
   "pygments_lexer": "ipython3",
   "version": "3.9.7"
  }
 },
 "nbformat": 4,
 "nbformat_minor": 5
}
