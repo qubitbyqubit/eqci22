{
 "cells": [
  {
   "cell_type": "markdown",
   "id": "e013572e-d2c0-47ea-a725-58df28e2e43d",
   "metadata": {},
   "source": [
    "# Numpy statevector simulator\n",
    "\n",
    "\n",
    "Numpy is the core library for scientific computing in Python. Some key highlights of numpy:\n",
    "* Python library containing math functions\n",
    "* Written in C so it runs really fast!\n",
    "* Contains lots of helper functions allowing for shorter, more readable code\n",
    "* Contains fantastic documentation. [Numpy documentation](https://numpy.org/doc/stable/).\n",
    "\n",
    "While not required, the general consensus is to import the whole numpy library and set it as the name `np`:"
   ]
  },
  {
   "cell_type": "code",
   "execution_count": 1,
   "id": "96f72aac-f14e-479a-821b-5874199715a4",
   "metadata": {},
   "outputs": [],
   "source": [
    "import numpy as np"
   ]
  },
  {
   "cell_type": "markdown",
   "id": "2828b504-3597-4923-9672-ab7b52275b0e",
   "metadata": {},
   "source": [
    "## Arrays\n",
    "\n",
    "Numpy provides a high-performance multidimensional array object, and tools for working with these arrays.\n",
    "\n"
   ]
  },
  {
   "cell_type": "code",
   "execution_count": 3,
   "id": "49def0f1-8cb4-4145-9c7e-62951890315b",
   "metadata": {},
   "outputs": [
    {
     "name": "stdout",
     "output_type": "stream",
     "text": [
      "[0, 1, 2, 3, 4]\n",
      "[0 1 2 3 4]\n"
     ]
    }
   ],
   "source": [
    "example_list = [0,1,2,3,4]\n",
    "\n",
    "numpy_list = np.array(example_list)\n",
    "\n",
    "print(example_list)\n",
    "print(numpy_list)"
   ]
  },
  {
   "cell_type": "markdown",
   "id": "db3d5275-04f5-49bd-9f34-d33e777424a2",
   "metadata": {},
   "source": [
    "## Making Matrices\n",
    "\n",
    "```python\n",
    "matrix_name = np.array([[row],\n",
    "                        [row]])\n",
    "```"
   ]
  },
  {
   "cell_type": "code",
   "execution_count": 9,
   "id": "67a13555-a78f-49e7-8b1b-011622ae58e8",
   "metadata": {},
   "outputs": [
    {
     "data": {
      "text/plain": [
       "array([[1, 0, 1],\n",
       "       [0, 1, 0],\n",
       "       [1, 0, 1]])"
      ]
     },
     "execution_count": 9,
     "metadata": {},
     "output_type": "execute_result"
    }
   ],
   "source": [
    "matrix1 = np.array([[1, 0, 1],\n",
    "                    [0, 1, 0],\n",
    "                    [1, 0, 1]])\n",
    "matrix1"
   ]
  },
  {
   "cell_type": "markdown",
   "id": "6980eaa5-a492-48a3-9435-f5ef9210851d",
   "metadata": {},
   "source": [
    "## Make the X Gate"
   ]
  },
  {
   "cell_type": "code",
   "execution_count": 7,
   "id": "ccb2f830-9a20-42ad-92cb-1a39f891061d",
   "metadata": {},
   "outputs": [],
   "source": [
    "X = np.array([[1, 0],\n",
    "              [0, 1]])"
   ]
  },
  {
   "cell_type": "markdown",
   "id": "fcb2d359-a397-49a6-9fa6-62f1fc51b665",
   "metadata": {},
   "source": [
    "## Make the Y Gate"
   ]
  },
  {
   "cell_type": "code",
   "execution_count": 8,
   "id": "67b74c72-aa2c-4b37-be26-38e57b3996e9",
   "metadata": {},
   "outputs": [],
   "source": [
    "Y = np.array([[0, 1],\n",
    "              [1, 0]])"
   ]
  },
  {
   "cell_type": "markdown",
   "id": "8c2c8c9c-64ce-46ba-a5c1-e34b02ca1afb",
   "metadata": {},
   "source": [
    "## Make the Z Gate"
   ]
  },
  {
   "cell_type": "code",
   "execution_count": null,
   "id": "0e4a7b1d-c833-4a7c-9c07-a31778f3dfa4",
   "metadata": {},
   "outputs": [],
   "source": [
    "Z = np.array([[1, 1],\n",
    "              [1,-1]])"
   ]
  },
  {
   "cell_type": "markdown",
   "id": "d9ff36e7-9df0-4870-bddd-7fb67ff136c6",
   "metadata": {},
   "source": [
    "## Make the H Gate"
   ]
  },
  {
   "cell_type": "code",
   "execution_count": null,
   "id": "e6a685df-416a-4d8f-bcac-96f8576141d8",
   "metadata": {},
   "outputs": [],
   "source": [
    "H = (1/np.sqrt(2))*np.array([[1, 0],\n",
    "                             [1, 0]])"
   ]
  },
  {
   "cell_type": "markdown",
   "id": "133cb077-4716-4753-a49c-377fad022bc3",
   "metadata": {},
   "source": []
  },
  {
   "cell_type": "code",
   "execution_count": null,
   "id": "a9b0f446-c247-463a-a23f-85f002c81262",
   "metadata": {},
   "outputs": [],
   "source": [
    "qubit = np.array([[0],\n",
    "                  [0]])"
   ]
  }
 ],
 "metadata": {
  "kernelspec": {
   "display_name": "Python 3 (ipykernel)",
   "language": "python",
   "name": "python3"
  },
  "language_info": {
   "codemirror_mode": {
    "name": "ipython",
    "version": 3
   },
   "file_extension": ".py",
   "mimetype": "text/x-python",
   "name": "python",
   "nbconvert_exporter": "python",
   "pygments_lexer": "ipython3",
   "version": "3.9.5"
  }
 },
 "nbformat": 4,
 "nbformat_minor": 5
}
