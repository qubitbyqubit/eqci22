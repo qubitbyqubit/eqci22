{
 "cells": [
  {
   "cell_type": "code",
   "execution_count": 19,
   "id": "ea9a4613-dbcb-4c15-b1ab-218ae52bad3f",
   "metadata": {},
   "outputs": [],
   "source": [
    "import matplotlib.pyplot as plt\n",
    "from qiskit.visualization import plot_histogram"
   ]
  },
  {
   "cell_type": "markdown",
   "id": "e013572e-d2c0-47ea-a725-58df28e2e43d",
   "metadata": {
    "tags": []
   },
   "source": [
    "# Numpy statevector simulator\n",
    "\n",
    "\n",
    "Numpy is the core library for scientific computing in Python. Some key highlights of numpy:\n",
    "* Python library containing math functions\n",
    "* Written in C so it runs really fast!\n",
    "* Contains lots of helper functions allowing for shorter, more readable code\n",
    "* Contains fantastic documentation. [Numpy documentation](https://numpy.org/doc/stable/).\n",
    "\n",
    "While not required, the general consensus is to import the whole numpy library and set it as the name `np`:"
   ]
  },
  {
   "cell_type": "code",
   "execution_count": 1,
   "id": "96f72aac-f14e-479a-821b-5874199715a4",
   "metadata": {},
   "outputs": [],
   "source": [
    "import numpy as np"
   ]
  },
  {
   "cell_type": "markdown",
   "id": "2828b504-3597-4923-9672-ab7b52275b0e",
   "metadata": {},
   "source": [
    "## Arrays\n",
    "\n",
    "Numpy provides a high-performance multidimensional array object, and tools for working with these arrays.\n",
    "\n"
   ]
  },
  {
   "cell_type": "code",
   "execution_count": 2,
   "id": "49def0f1-8cb4-4145-9c7e-62951890315b",
   "metadata": {},
   "outputs": [
    {
     "name": "stdout",
     "output_type": "stream",
     "text": [
      "[0, 1, 2, 3, 4]\n",
      "[0 1 2 3 4]\n"
     ]
    }
   ],
   "source": [
    "example_list = [0,1,2,3,4]\n",
    "\n",
    "numpy_list = np.array(example_list)\n",
    "\n",
    "print(example_list)\n",
    "print(numpy_list)"
   ]
  },
  {
   "cell_type": "markdown",
   "id": "ccc7555a-8408-4c54-9b6e-ece719d269cb",
   "metadata": {},
   "source": [
    "# Vectors\n",
    "\n",
    "Arrays, matrices, and vectors are one and the same - it all has to do with dimension and space\n",
    "\n",
    "1 Dimension = Array\n",
    "2 Dimension = Vector or Matrix\n",
    "\n",
    "### Example 1\n",
    "\n",
    "Dimension of A = (2,1):\n",
    "\n",
    "$$\n",
    "\\begin{bmatrix}\n",
    "12 \\\\\n",
    "20\n",
    "\\end{bmatrix}\n",
    "$$\n",
    "\n",
    "A is therefore a column vector as the the Column dimensions = 1\n",
    "\n",
    "### Example 2\n",
    "\n",
    "Dimension of B = (2,2):\n",
    "\n",
    "$$\n",
    "\\begin{bmatrix}\n",
    "5 & 8 \\\\\n",
    "12 & 2\n",
    "\\end{bmatrix}\n",
    "$$\n",
    "\n",
    "B is therefore a Matrix as the the Column  dimensions = 2, and the Row dimensions = 2\n"
   ]
  },
  {
   "cell_type": "markdown",
   "id": "b9ad3863-dc3e-41e6-bbd3-5383ab233917",
   "metadata": {},
   "source": [
    "## Making Vectors in Numpy\n",
    "\n",
    "```python\n",
    "vector_name = np.array([[Value],\n",
    "                        [Value]])\n",
    "```"
   ]
  },
  {
   "cell_type": "code",
   "execution_count": 9,
   "id": "fb6df4df-10a5-44cd-a7e9-d309577261cb",
   "metadata": {},
   "outputs": [
    {
     "data": {
      "text/plain": [
       "array([[1],\n",
       "       [0],\n",
       "       [1]])"
      ]
     },
     "execution_count": 9,
     "metadata": {},
     "output_type": "execute_result"
    }
   ],
   "source": [
    "vector1 = np.array([[1],\n",
    "                    [0],\n",
    "                    [1]])\n",
    "vector1"
   ]
  },
  {
   "cell_type": "markdown",
   "id": "db3d5275-04f5-49bd-9f34-d33e777424a2",
   "metadata": {},
   "source": [
    "## Making Matrices in Numpy\n",
    "\n",
    "```python\n",
    "matrix_name = np.array([[row],\n",
    "                        [row]])\n",
    "```"
   ]
  },
  {
   "cell_type": "code",
   "execution_count": 3,
   "id": "67a13555-a78f-49e7-8b1b-011622ae58e8",
   "metadata": {},
   "outputs": [
    {
     "data": {
      "text/plain": [
       "array([[1, 0, 1],\n",
       "       [0, 1, 0],\n",
       "       [1, 0, 1]])"
      ]
     },
     "execution_count": 3,
     "metadata": {},
     "output_type": "execute_result"
    }
   ],
   "source": [
    "matrix1 = np.array([[1, 0, 1],\n",
    "                    [0, 1, 0],\n",
    "                    [1, 0, 1]])\n",
    "matrix1"
   ]
  },
  {
   "cell_type": "markdown",
   "id": "74493d56-b3b5-4f02-abe7-fc693a7f7340",
   "metadata": {
    "tags": []
   },
   "source": [
    "# Multiplying Matrices"
   ]
  },
  {
   "cell_type": "code",
   "execution_count": 12,
   "id": "f2a2a73d-dbd2-4d0e-a16e-07dfa0647427",
   "metadata": {},
   "outputs": [
    {
     "name": "stdout",
     "output_type": "stream",
     "text": [
      "matrix 1: \n"
     ]
    },
    {
     "data": {
      "text/plain": [
       "array([[1, 0, 1],\n",
       "       [0, 1, 0],\n",
       "       [1, 0, 1]])"
      ]
     },
     "metadata": {},
     "output_type": "display_data"
    },
    {
     "name": "stdout",
     "output_type": "stream",
     "text": [
      "vector 1: \n"
     ]
    },
    {
     "data": {
      "text/plain": [
       "array([[1],\n",
       "       [0],\n",
       "       [1]])"
      ]
     },
     "metadata": {},
     "output_type": "display_data"
    }
   ],
   "source": [
    "# Let's take another look at our matrix1 and vector1 from above\n",
    "print(\"matrix 1: \")\n",
    "display(matrix1)\n",
    "print(\"vector 1: \")\n",
    "display(vector1)"
   ]
  },
  {
   "cell_type": "markdown",
   "id": "8c0da723-cb85-4fb7-8743-45080621a0cc",
   "metadata": {},
   "source": [
    "# Dot Product"
   ]
  },
  {
   "cell_type": "code",
   "execution_count": 13,
   "id": "973aae07-d0ea-47b6-a53c-20eae84325a5",
   "metadata": {},
   "outputs": [
    {
     "data": {
      "text/plain": [
       "array([[2],\n",
       "       [0],\n",
       "       [2]])"
      ]
     },
     "execution_count": 13,
     "metadata": {},
     "output_type": "execute_result"
    }
   ],
   "source": [
    "np.dot(matrix1, vector1)"
   ]
  },
  {
   "cell_type": "markdown",
   "id": "3360f6b7-e646-449b-896e-2be69345fe6c",
   "metadata": {},
   "source": [
    "---\n",
    "\n",
    "# Cool, So let's do some Quantum Computing with that!\n",
    "---"
   ]
  },
  {
   "cell_type": "markdown",
   "id": "6980eaa5-a492-48a3-9435-f5ef9210851d",
   "metadata": {},
   "source": [
    "## Make the X Gate"
   ]
  },
  {
   "cell_type": "code",
   "execution_count": 4,
   "id": "ccb2f830-9a20-42ad-92cb-1a39f891061d",
   "metadata": {},
   "outputs": [],
   "source": []
  },
  {
   "cell_type": "markdown",
   "id": "fcb2d359-a397-49a6-9fa6-62f1fc51b665",
   "metadata": {},
   "source": [
    "## Make the Y Gate"
   ]
  },
  {
   "cell_type": "code",
   "execution_count": 5,
   "id": "67b74c72-aa2c-4b37-be26-38e57b3996e9",
   "metadata": {},
   "outputs": [],
   "source": []
  },
  {
   "cell_type": "markdown",
   "id": "8c2c8c9c-64ce-46ba-a5c1-e34b02ca1afb",
   "metadata": {},
   "source": [
    "## Make the Z Gate"
   ]
  },
  {
   "cell_type": "code",
   "execution_count": 6,
   "id": "0e4a7b1d-c833-4a7c-9c07-a31778f3dfa4",
   "metadata": {},
   "outputs": [],
   "source": []
  },
  {
   "cell_type": "markdown",
   "id": "d9ff36e7-9df0-4870-bddd-7fb67ff136c6",
   "metadata": {},
   "source": [
    "## Make the H Gate"
   ]
  },
  {
   "cell_type": "code",
   "execution_count": 44,
   "id": "e6a685df-416a-4d8f-bcac-96f8576141d8",
   "metadata": {},
   "outputs": [],
   "source": []
  },
  {
   "cell_type": "markdown",
   "id": "133cb077-4716-4753-a49c-377fad022bc3",
   "metadata": {},
   "source": [
    "# Make the $\\lvert 0 \\rangle$ State"
   ]
  },
  {
   "cell_type": "code",
   "execution_count": 33,
   "id": "a9b0f446-c247-463a-a23f-85f002c81262",
   "metadata": {},
   "outputs": [],
   "source": []
  },
  {
   "cell_type": "markdown",
   "id": "cd736177-ed55-48f0-b7f7-5f2bfe223be2",
   "metadata": {},
   "source": [
    "# Make a gate application function"
   ]
  },
  {
   "cell_type": "code",
   "execution_count": 14,
   "id": "6192616d-b458-4177-ae11-2e206649e6df",
   "metadata": {},
   "outputs": [],
   "source": [
    "def apply_gate(gate, state):\n",
    "    # Todo\n",
    "    return state"
   ]
  },
  {
   "cell_type": "code",
   "execution_count": 47,
   "id": "55a80bf1-f46e-493d-b64b-146520496735",
   "metadata": {},
   "outputs": [],
   "source": [
    "new_state = np.dot(H, base)"
   ]
  },
  {
   "cell_type": "markdown",
   "id": "731821ff-b51c-4535-84a5-30990a46579b",
   "metadata": {},
   "source": [
    "# Make a function that applies gates"
   ]
  },
  {
   "cell_type": "code",
   "execution_count": null,
   "id": "ac4bcbfc-5f81-486b-8969-91d513aa4785",
   "metadata": {},
   "outputs": [],
   "source": []
  },
  {
   "cell_type": "markdown",
   "id": "87acc08a-c1c4-4681-a7ae-6d00d5e67eca",
   "metadata": {},
   "source": [
    "# Make a function that plots Statevectors as Probability histograms"
   ]
  },
  {
   "cell_type": "code",
   "execution_count": null,
   "id": "600966b6-5d4d-4ece-8aef-1b0e29d9fbd2",
   "metadata": {},
   "outputs": [],
   "source": []
  },
  {
   "cell_type": "markdown",
   "id": "c9d991df-ad9b-4187-b9b4-318af12763f3",
   "metadata": {
    "jp-MarkdownHeadingCollapsed": true,
    "tags": []
   },
   "source": [
    "### © 2022 The Coding School\n",
    "\n",
    "**All rights reserved**\n",
    "\n",
    "*Use of this activity is for personal use only. Copying, reproducing, distributing, posting or sharing this activity in any manner with any third party are prohibited under the terms of this registration. All rights not specifically licensed under the registration are reserved.*"
   ]
  }
 ],
 "metadata": {
  "kernelspec": {
   "display_name": "Python 3 (ipykernel)",
   "language": "python",
   "name": "python3"
  },
  "language_info": {
   "codemirror_mode": {
    "name": "ipython",
    "version": 3
   },
   "file_extension": ".py",
   "mimetype": "text/x-python",
   "name": "python",
   "nbconvert_exporter": "python",
   "pygments_lexer": "ipython3",
   "version": "3.9.5"
  }
 },
 "nbformat": 4,
 "nbformat_minor": 5
}
