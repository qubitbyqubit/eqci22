{
 "cells": [
  {
   "cell_type": "markdown",
   "metadata": {
    "id": "2dyyf8qCbF7Y",
    "tags": []
   },
   "source": [
    "<div class=\"alert alert-info\">\n",
    "    <h1><strong>2022 EQCI Day 2 Lab</strong></h1>\n",
    "    <h2>Python Refresher</h2>\n",
    "</div>"
   ]
  },
  {
   "cell_type": "code",
   "execution_count": null,
   "metadata": {},
   "outputs": [],
   "source": [
    "variables: int, strings, lists\n",
    "for loops\n",
    "conditional statements\n",
    "functions"
   ]
  },
  {
   "cell_type": "markdown",
   "metadata": {
    "id": "HOzxNDKPncok"
   },
   "source": [
    "# Print Statements\n",
    "---\n",
    "\n"
   ]
  },
  {
   "cell_type": "markdown",
   "metadata": {
    "id": "8b0ZTRPBncor"
   },
   "source": [
    "### **Concepts**\n",
    "\n",
    "1. print() Function\n",
    "2. Printing Numbers and Strings Together\n",
    "\n",
    "**print()**\n",
    "*   Strings = print(\"WORDS\")\n",
    "*   Numbers = print(NUM)"
   ]
  },
  {
   "cell_type": "markdown",
   "metadata": {
    "id": "biPGQtV-ncos"
   },
   "source": [
    "### Exercise #1\n",
    "---\n",
    "**Problem**: Print 3 sentences about your favorite foods."
   ]
  },
  {
   "cell_type": "markdown",
   "metadata": {
    "id": "K_y-9gJjncou"
   },
   "source": [
    "##### **Solution**"
   ]
  },
  {
   "cell_type": "code",
   "execution_count": null,
   "metadata": {
    "id": "ULhR-Uinncov"
   },
   "outputs": [],
   "source": [
    "print(\"I like peanut butter.\")\n",
    "print(\"My favorite ice cream flavor is chocolate.\")\n",
    "print(\"I think I like cookies more than brownies.\")"
   ]
  },
  {
   "cell_type": "markdown",
   "metadata": {
    "id": "FNEYt30zncoz"
   },
   "source": [
    "### Exercise #2\n",
    "---\n",
    "**Problem**: Print a sentence that states how many siblings you have."
   ]
  },
  {
   "cell_type": "markdown",
   "metadata": {
    "id": "efWr9zUincoz"
   },
   "source": [
    "##### **Solution**"
   ]
  },
  {
   "cell_type": "code",
   "execution_count": null,
   "metadata": {
    "id": "yRyWnClZnco0"
   },
   "outputs": [],
   "source": [
    "print(\"I have \" + str(3) + \" siblings.\")"
   ]
  },
  {
   "cell_type": "markdown",
   "metadata": {
    "id": "hT2WFzDKnco2"
   },
   "source": [
    "### Exercise #3\n",
    "---\n",
    "**Problem**: Debug the following line(s) of code:"
   ]
  },
  {
   "cell_type": "code",
   "execution_count": null,
   "metadata": {
    "id": "f1Wmc3YHoz_s"
   },
   "outputs": [],
   "source": [
    "print(\"I was about \" + 7 + \" years old when I learned to ride a bike.\")"
   ]
  },
  {
   "cell_type": "markdown",
   "metadata": {
    "id": "0kw2zuu-nco2"
   },
   "source": [
    "##### **Solution**"
   ]
  },
  {
   "cell_type": "code",
   "execution_count": null,
   "metadata": {
    "id": "JrUhw80inco2"
   },
   "outputs": [],
   "source": [
    "print(\"I was about \" + str(7) + \" years old when I learned to ride a bike.\")"
   ]
  },
  {
   "cell_type": "markdown",
   "metadata": {
    "id": "iDJ-I_rMDbE-"
   },
   "source": [
    "# Variables\n",
    "---"
   ]
  },
  {
   "cell_type": "markdown",
   "metadata": {
    "id": "JW9UWAQ7BP3f"
   },
   "source": [
    "### **Concepts**\n",
    "*This lesson introduces students to variables and data types. Building off of their last lesson, students will learn how to print variables.*\n",
    "\n",
    "1. Variables\n",
    "2. Data Types\n",
    "3. Printing Variables\n",
    "\n",
    "**variable**: containers for storing data values\n",
    "\n",
    "**Variable**\n",
    "*   Python Immutability\n",
    "*   Value/none\n",
    "\n",
    "**Number**\n",
    "* Int\n",
    "* Float\n",
    "\n",
    "**Python String**\n",
    "* String\n",
    "* Char\n",
    "\n",
    "**Boolean**\n",
    "* True/False\n",
    "\n",
    "**Lists**"
   ]
  },
  {
   "cell_type": "markdown",
   "metadata": {
    "id": "yAqswP3QBczI"
   },
   "source": [
    "### Exercise #1\n",
    "---\n",
    "**Problem**: Name a variable `lucky` and assign it to your lucky number."
   ]
  },
  {
   "cell_type": "markdown",
   "metadata": {
    "id": "Ls2-l-wLCuL3"
   },
   "source": [
    "##### **Solution**"
   ]
  },
  {
   "cell_type": "code",
   "execution_count": null,
   "metadata": {
    "id": "RLYC7tHiCvxt"
   },
   "outputs": [],
   "source": [
    "lucky = 33"
   ]
  },
  {
   "cell_type": "markdown",
   "metadata": {
    "id": "1n29Z21KEumw"
   },
   "source": [
    "### Exercise #2\n",
    "---\n",
    "**Problem**: Convert the float, 89.668 to an integer."
   ]
  },
  {
   "cell_type": "markdown",
   "metadata": {
    "id": "JEu7ZtvtEyd1"
   },
   "source": [
    "##### **Solution**"
   ]
  },
  {
   "cell_type": "code",
   "execution_count": null,
   "metadata": {
    "id": "_1dY6nLtE8Yk"
   },
   "outputs": [],
   "source": [
    "int(89.668)"
   ]
  },
  {
   "cell_type": "markdown",
   "metadata": {
    "id": "-ExPBv3kE5rM"
   },
   "source": [
    "### Exercise #3\n",
    "---\n",
    "**Problem**: Create a variable `height` and assign it to value 5.3. Create a variable `days` and assign it to value 10. Print a sentence that states that your plant has grown 5.3 inches in 10 days."
   ]
  },
  {
   "cell_type": "markdown",
   "metadata": {
    "id": "lXWGImr8E1Bd"
   },
   "source": [
    "##### **Solution**"
   ]
  },
  {
   "cell_type": "code",
   "execution_count": null,
   "metadata": {
    "id": "W5Xh8hXgE9Gm"
   },
   "outputs": [],
   "source": [
    "height = 5.3\n",
    "days = 10\n",
    "print(\"My plant has grown \" + str(height) + \" inches in \" + str(days) + \".\")"
   ]
  },
  {
   "cell_type": "markdown",
   "metadata": {
    "id": "vaBnbO5eqGgE"
   },
   "source": [
    "### Exercise #4\n",
    "---\n",
    "**Problem**: Create a variable `cities` and assign it your list of favorite cities"
   ]
  },
  {
   "cell_type": "markdown",
   "metadata": {
    "id": "aZ50vhS6qV1Q"
   },
   "source": [
    "**Solution**"
   ]
  },
  {
   "cell_type": "markdown",
   "metadata": {
    "id": "oxNL_LdqyFVz",
    "tags": []
   },
   "source": [
    "# Lesson 8 - Conditionals\n",
    "---\n",
    "\n"
   ]
  },
  {
   "cell_type": "markdown",
   "metadata": {
    "id": "cnZz9qM0yFV1"
   },
   "source": [
    "### **Concepts**\n",
    "\n",
    "1. Conditionals\n",
    "  - If, else, elif"
   ]
  },
  {
   "cell_type": "markdown",
   "metadata": {
    "id": "FJQZtesOyFV1"
   },
   "source": [
    "### Exercise #1\n",
    "---\n",
    "**Problem**: Ask the user to enter their test grade. If the grade is a 65 or over, tell them they passed. If the grade is below a 65 tell them they did not pass."
   ]
  },
  {
   "cell_type": "markdown",
   "metadata": {
    "id": "1k7Z8SOoyFV2"
   },
   "source": [
    "##### **Solution**"
   ]
  },
  {
   "cell_type": "code",
   "execution_count": null,
   "metadata": {
    "id": "58Hm9j9CyFV2"
   },
   "outputs": [],
   "source": [
    "grade = int(input(\"What did you get on the test?\"))\n",
    "\n",
    "if grade >= 65:\n",
    "  print(\"Congrats! You passed!\")\n",
    "else:\n",
    "  print(\"Sorry, you did not pass.\")"
   ]
  },
  {
   "cell_type": "markdown",
   "metadata": {
    "id": "W1flKJidyFV6"
   },
   "source": [
    "### Exercise #2\n",
    "---\n",
    "**Problem**: Ask the user to input how many seashells they collected. If they have 3 seashells, tell them to give 1 seashell to their friend. If they have more than 3 seashells, tell them to give their friend 2 seashells. If they have less than 3 seashells, tell them to keep them for themselves."
   ]
  },
  {
   "cell_type": "markdown",
   "metadata": {
    "id": "ijrrxVbuyFV6"
   },
   "source": [
    "##### **Solution**"
   ]
  },
  {
   "cell_type": "code",
   "execution_count": null,
   "metadata": {
    "id": "_xtbp4z-yFV7"
   },
   "outputs": [],
   "source": [
    "seashells = int(input(\"How many seashells do you have?\"))\n",
    "\n",
    "if seashells == 3:\n",
    "  print(\"Give your friend a seashell.\")\n",
    "elif seashells > 3:\n",
    "  print(\"Give your friend 2 seashells.\")\n",
    "else:\n",
    "  print(\"Keep the seashells for yourself.\")"
   ]
  },
  {
   "cell_type": "markdown",
   "metadata": {
    "id": "tjjfn0YByFV-"
   },
   "source": [
    "### Exercise #3\n",
    "---\n",
    "**Problem**: Ask the user what they like the LEAST out of the colors green, purple, and orange. If their least favorite is also your least favorite print \"Me too!.\" If not, print \"I disagree.\""
   ]
  },
  {
   "cell_type": "markdown",
   "metadata": {
    "id": "0huF0yWayFV-"
   },
   "source": [
    "##### **Solution**"
   ]
  },
  {
   "cell_type": "code",
   "execution_count": null,
   "metadata": {
    "id": "0eryQ8H8yFV-"
   },
   "outputs": [],
   "source": [
    "color = str(input(\"What color do you like the least out of: green, purple, orange?\"))\n",
    "\n",
    "if color == \"orange\":\n",
    "  print(\"Me too!\")\n",
    "else:\n",
    "  print(\"I disagree.\")"
   ]
  },
  {
   "cell_type": "markdown",
   "metadata": {
    "id": "RMzrBsYd1ezY"
   },
   "source": [
    "# Lesson 9 - For Loops\n",
    "---\n",
    "\n"
   ]
  },
  {
   "cell_type": "markdown",
   "metadata": {
    "id": "wpRhp_vL1ezZ"
   },
   "source": [
    "### **Concepts**\n",
    "\n",
    "1. For Loops\n",
    "2. Range Function\n",
    "\n",
    "**iterable**: something whose elements are able to be looked through (ex: lists, strings)\n",
    "\n",
    "**terminating condition**: the condition under which the loop is done executing\n",
    "\n",
    "**loop body**: the code that is executed inside the loop"
   ]
  },
  {
   "cell_type": "markdown",
   "metadata": {
    "id": "ifB1gFm41ezb"
   },
   "source": [
    "### Exercise #1\n",
    "---\n",
    "**Problem**: Print the product of the numbers in the list `numbers`."
   ]
  },
  {
   "cell_type": "code",
   "execution_count": null,
   "metadata": {
    "id": "8IhXiLc42zT4"
   },
   "outputs": [],
   "source": [
    "numbers = [1, 5, 7, 3]"
   ]
  },
  {
   "cell_type": "markdown",
   "metadata": {
    "id": "IgGrZG7O1ezc"
   },
   "source": [
    "##### **Solution**"
   ]
  },
  {
   "cell_type": "code",
   "execution_count": null,
   "metadata": {
    "id": "MdvYq4Qd1ezc"
   },
   "outputs": [],
   "source": [
    "numbers = [1, 5, 7, 3]\n",
    "product = 1;\n",
    "\n",
    "for num in numbers:\n",
    "  product = product * num\n",
    "\n",
    "print(product)"
   ]
  },
  {
   "cell_type": "markdown",
   "metadata": {
    "id": "Vx2Q3kNl1ezg"
   },
   "source": [
    "### Exercise #2\n",
    "---\n",
    "**Problem**: Print 0, 1, 2, 3, 0, 1, 2, 3 using two for loops (commas not necessary)."
   ]
  },
  {
   "cell_type": "markdown",
   "metadata": {
    "id": "HN4aD45h1ezg"
   },
   "source": [
    "##### **Solution**"
   ]
  },
  {
   "cell_type": "code",
   "execution_count": null,
   "metadata": {
    "id": "KVdtI1rW1ezh"
   },
   "outputs": [],
   "source": [
    "for x in range(2):\n",
    "  for i in range(4):\n",
    "    print(i)"
   ]
  },
  {
   "cell_type": "markdown",
   "metadata": {
    "id": "dDsiPqtW1ezj"
   },
   "source": [
    "### Exercise #3\n",
    "---\n",
    "**Problem**: Print the sum of the even numbers from 4 to 9."
   ]
  },
  {
   "cell_type": "markdown",
   "metadata": {
    "id": "6rgNwT5g1ezk"
   },
   "source": [
    "##### **Solution**"
   ]
  },
  {
   "cell_type": "code",
   "execution_count": null,
   "metadata": {
    "id": "DcwWFrq91ezk"
   },
   "outputs": [],
   "source": [
    "add = 0\n",
    "for x in range(4, 10):\n",
    "  if x % 2 == 0:\n",
    "    add = add + x\n",
    "print(add)"
   ]
  },
  {
   "cell_type": "markdown",
   "metadata": {
    "id": "MHHs38qj4GpX"
   },
   "source": [
    "# Lesson 10 - While and Infinite Loops\n",
    "---\n",
    "\n"
   ]
  },
  {
   "cell_type": "markdown",
   "metadata": {
    "id": "0HtAA1j14GpZ"
   },
   "source": [
    "### **Concepts**\n",
    "\n",
    "1. While Loops\n",
    "2. Break\n",
    "3. Continue\n",
    "4. Infinite Loops"
   ]
  },
  {
   "cell_type": "markdown",
   "metadata": {
    "id": "TH6Zu4fW4Gpa"
   },
   "source": [
    "### Exercise #1\n",
    "---\n",
    "**Problem**: Ask the user to enter an integer. If the integer is not evenly divisible by 3, ask them for another number. If it is evenly divisible by 3, the loop terminates."
   ]
  },
  {
   "cell_type": "markdown",
   "metadata": {
    "id": "QpNM_J3N4Gpa"
   },
   "source": [
    "##### **Solution**"
   ]
  },
  {
   "cell_type": "code",
   "execution_count": null,
   "metadata": {
    "id": "pccS6IYt4Gpb"
   },
   "outputs": [],
   "source": [
    "num = 1\n",
    "while (num % 3 != 0):\n",
    "  num = int(input(\"Input a number: \"))"
   ]
  },
  {
   "cell_type": "markdown",
   "metadata": {
    "id": "WXKV_7LK4Gpf"
   },
   "source": [
    "### Exercise #2\n",
    "---\n",
    "**Problem**: Create a while loop that would print all integers between 10 and 30 (not inclusive), but use the `continue` statement to skip 20. Make the loop terminate when it reaches 28 using the `break` statement."
   ]
  },
  {
   "cell_type": "markdown",
   "metadata": {
    "id": "LWiVgq3M4Gpf"
   },
   "source": [
    "##### **Solution**"
   ]
  },
  {
   "cell_type": "code",
   "execution_count": null,
   "metadata": {
    "id": "JSjY23js4Gpf"
   },
   "outputs": [],
   "source": [
    "num = 10\n",
    "while (num < 30):\n",
    "  num += 1\n",
    "  if num == 20:\n",
    "    continue\n",
    "  if num == 28:\n",
    "    break\n",
    "  print(num)"
   ]
  },
  {
   "cell_type": "markdown",
   "metadata": {
    "id": "i4ghC7v64Gpi"
   },
   "source": [
    "### Exercise #3\n",
    "---\n",
    "**Problem**: Fix this snippet of code so that it prints the positive numbers less than 10, but not 2, instead of looping indefinitely."
   ]
  },
  {
   "cell_type": "code",
   "execution_count": null,
   "metadata": {
    "id": "EEQ1gyo46j1r"
   },
   "outputs": [],
   "source": [
    "num = 9\n",
    "while (num < 10):\n",
    "  print(num)\n",
    "  num = num - 1"
   ]
  },
  {
   "cell_type": "markdown",
   "metadata": {
    "id": "ZVV2YDUV4Gpi"
   },
   "source": [
    "##### **Solution**"
   ]
  },
  {
   "cell_type": "code",
   "execution_count": null,
   "metadata": {
    "id": "GRN3K0p94Gpi"
   },
   "outputs": [],
   "source": [
    "num = 10\n",
    "while (num < 11 and num > 1):\n",
    "  num = num - 1\n",
    "  if (num == 2):\n",
    "    continue\n",
    "  print(num)"
   ]
  },
  {
   "cell_type": "markdown",
   "metadata": {
    "id": "xsSWCsZW75OA"
   },
   "source": [
    "# Lesson 11 - Functions\n",
    "---\n",
    "\n"
   ]
  },
  {
   "cell_type": "markdown",
   "metadata": {
    "id": "imZ1JbjN75OD"
   },
   "source": [
    "### **Concepts**\n",
    "\n",
    "1. Functions\n",
    "2. Parameters\n",
    "3. Return/Function Output\n",
    "\n",
    "**function**: a named section of a program that performs a specific task\n",
    "\n",
    "The parts of a function are as follows: \n",
    "* the `def` keyword, which says you are about to define a function\n",
    "* A function name\n",
    "* A set of parenthesis\n",
    "* Parameters (optional)\n",
    "* A colon after the parenthesis\n",
    "* A x line function body"
   ]
  },
  {
   "cell_type": "markdown",
   "metadata": {
    "id": "7L0qtjaP75OD"
   },
   "source": [
    "### Exercise #1\n",
    "---\n",
    "**Problem**: Write a function `multiply` that takes two integer parameters and prints the product of them."
   ]
  },
  {
   "cell_type": "markdown",
   "metadata": {
    "id": "iSj3wZ2i75OE"
   },
   "source": [
    "##### **Solution**"
   ]
  },
  {
   "cell_type": "code",
   "execution_count": null,
   "metadata": {
    "id": "iaUEIvd275OE"
   },
   "outputs": [],
   "source": [
    "def multiply(x, y):\n",
    "  product = x * y\n",
    "  print(product)"
   ]
  },
  {
   "cell_type": "markdown",
   "metadata": {
    "id": "dmrL6c1w75OI"
   },
   "source": [
    "### Exercise #2\n",
    "---\n",
    "**Problem**: What are the parameters of the following function?"
   ]
  },
  {
   "cell_type": "code",
   "execution_count": null,
   "metadata": {
    "id": "TKchADy-9iSd"
   },
   "outputs": [],
   "source": [
    "def hello():\n",
    "  print(\"Hello, there! I hope you like this lesson!\")"
   ]
  },
  {
   "cell_type": "markdown",
   "metadata": {
    "id": "XCt18zdK75OJ"
   },
   "source": [
    "##### **Solution**"
   ]
  },
  {
   "cell_type": "markdown",
   "metadata": {
    "id": "YTOv57EJ9paR"
   },
   "source": [
    "There are no parameters."
   ]
  },
  {
   "cell_type": "markdown",
   "metadata": {
    "id": "BMv_zooO_4AM"
   },
   "source": [
    "### Exercise #3\n",
    "---\n",
    "**Problem**: Create a function `name` that asks a user for their name, stores it in a variable, and returns that variable. Call the function by printing the sentence: \"Your name is X.\""
   ]
  },
  {
   "cell_type": "markdown",
   "metadata": {
    "id": "FMBQ4quk_4AS"
   },
   "source": [
    "##### **Solution**"
   ]
  },
  {
   "cell_type": "code",
   "execution_count": null,
   "metadata": {
    "id": "ETB_g4V2_4AP"
   },
   "outputs": [],
   "source": [
    "def name():\n",
    "  n = input(\"What is your name?\")\n",
    "  return n\n",
    "\n",
    "print(\"Your name is \" + str(name()) + \".\")"
   ]
  },
  {
   "cell_type": "code",
   "execution_count": null,
   "metadata": {
    "id": "F62cN8xSqDoa"
   },
   "outputs": [],
   "source": [
    "cities = [\"New York\", \"San Francisco\", \"Prague\"]"
   ]
  },
  {
   "cell_type": "code",
   "execution_count": null,
   "metadata": {
    "id": "b2ddea95-0539-43d6-b753-15623aa1e5fc"
   },
   "outputs": [],
   "source": [
    "# Block 1 - Copy the code from the slide into this block and run it. Do you get the right output?"
   ]
  },
  {
   "cell_type": "code",
   "execution_count": null,
   "metadata": {
    "id": "df983920-56f0-40d2-aa0d-60e45e1b72a8"
   },
   "outputs": [],
   "source": [
    "# Block 2: Try printing your name! Print “_____, welcome to quantum class” where the blank is your name."
   ]
  },
  {
   "cell_type": "code",
   "execution_count": null,
   "metadata": {
    "id": "fc92ef6f-bd5d-4281-85a3-d214dff232da"
   },
   "outputs": [],
   "source": [
    "# Block 3: Write down two print statements. Which print statement do you think gets executed first?"
   ]
  },
  {
   "cell_type": "code",
   "execution_count": null,
   "metadata": {
    "id": "5c68d14b-1e41-45f6-996f-a610b0ddb407"
   },
   "outputs": [],
   "source": [
    "# Block 4: Create a variable named cost_notebooks on your replit, and give it a value equal to 50. Run the code."
   ]
  },
  {
   "cell_type": "code",
   "execution_count": null,
   "metadata": {
    "id": "d4e8bdad-9971-48b7-83a0-626deadeb6cb"
   },
   "outputs": [],
   "source": [
    "# Block 5: Try printing the number of the cost of notebooks you stored in cost_notebooks."
   ]
  }
 ],
 "metadata": {
  "kernelspec": {
   "display_name": "Python 3 (ipykernel)",
   "language": "python",
   "name": "python3"
  },
  "language_info": {
   "codemirror_mode": {
    "name": "ipython",
    "version": 3
   },
   "file_extension": ".py",
   "mimetype": "text/x-python",
   "name": "python",
   "nbconvert_exporter": "python",
   "pygments_lexer": "ipython3",
   "version": "3.9.5"
  }
 },
 "nbformat": 4,
 "nbformat_minor": 4
}
