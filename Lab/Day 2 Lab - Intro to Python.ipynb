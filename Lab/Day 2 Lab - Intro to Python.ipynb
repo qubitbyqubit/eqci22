{
 "cells": [
  {
   "cell_type": "markdown",
   "metadata": {
    "id": "2dyyf8qCbF7Y",
    "tags": []
   },
   "source": [
    "<div class=\"alert alert-info\">\n",
    "    <h1><strong>2022 EQCI Day 2 Lab</strong></h1>\n",
    "    <h2>Python Refresher</h2>\n",
    "</div>"
   ]
  },
  {
   "cell_type": "markdown",
   "metadata": {
    "id": "IOaZv_Avdo99",
    "tags": []
   },
   "source": [
    "# The following topics are a reminder on basic python syntax\n",
    "\n",
    "## Topic list:\n",
    "1. Print and Input Statements\n",
    "2. Variables\n",
    "3. Arithmetic Cheatsheet\n",
    "4. Conditionals\n",
    "5. For Loops\n",
    "6. While Loops\n",
    "7. Infinite Loops\n",
    "8. Functions\n",
    "\n",
    "---\n",
    "\n",
    "# Let's flex those python skills!\n"
   ]
  },
  {
   "cell_type": "markdown",
   "metadata": {
    "id": "8b0ZTRPBncor"
   },
   "source": [
    "# Print and Input Statements\n",
    "---\n",
    "\n",
    "### **Concepts**\n",
    "\n",
    "1. print() Function\n",
    "2. Printing Numbers and Strings Together\n",
    "3. input() Function\n",
    "\n",
    "\n",
    "**Example of `print()`**\n",
    "\n",
    "* Strings: \n",
    "```python\n",
    "print(\"WORDS\")\n",
    "```\n",
    "* Numbers: \n",
    "```python\n",
    "print(101)\n",
    "```\n",
    "\n",
    "**Example of `input()`**\n",
    "\n",
    "* Strings: \n",
    "```python\n",
    "name = input(\"What is your name\")\n",
    "```"
   ]
  },
  {
   "cell_type": "markdown",
   "metadata": {
    "id": "biPGQtV-ncos"
   },
   "source": [
    "Exercise #1\n",
    "---\n",
    "**Problem**: Print 3 sentences about your favorite foods."
   ]
  },
  {
   "cell_type": "markdown",
   "metadata": {
    "id": "K_y-9gJjncou"
   },
   "source": [
    "**Solution**"
   ]
  },
  {
   "cell_type": "code",
   "execution_count": null,
   "metadata": {
    "collapsed": false,
    "id": "ULhR-Uinncov",
    "jupyter": {
     "outputs_hidden": false
    }
   },
   "outputs": [],
   "source": [
    "print(\"I like peanut butter.\")\n",
    "print(\"My favorite ice cream flavor is chocolate.\")\n",
    "print(\"I think I like cookies more than brownies.\")"
   ]
  },
  {
   "cell_type": "markdown",
   "metadata": {
    "id": "FNEYt30zncoz"
   },
   "source": [
    "Exercise #2\n",
    "---\n",
    "**Problem**: Print a sentence that states how many siblings you have."
   ]
  },
  {
   "cell_type": "markdown",
   "metadata": {
    "id": "efWr9zUincoz"
   },
   "source": [
    "**Solution**"
   ]
  },
  {
   "cell_type": "code",
   "execution_count": null,
   "metadata": {
    "collapsed": false,
    "id": "yRyWnClZnco0",
    "jupyter": {
     "outputs_hidden": false
    }
   },
   "outputs": [],
   "source": [
    "print(\"I have \" + str(3) + \" siblings.\")"
   ]
  },
  {
   "cell_type": "markdown",
   "metadata": {
    "id": "hT2WFzDKnco2"
   },
   "source": [
    "### Exercise #3\n",
    "---\n",
    "**Problem**: Debug the following line(s) of code:"
   ]
  },
  {
   "cell_type": "code",
   "execution_count": null,
   "metadata": {
    "collapsed": false,
    "id": "f1Wmc3YHoz_s",
    "jupyter": {
     "outputs_hidden": false
    }
   },
   "outputs": [],
   "source": [
    "print(\"I was about \" + 7 + \" years old when I learned to ride a bike.\")"
   ]
  },
  {
   "cell_type": "markdown",
   "metadata": {
    "id": "0kw2zuu-nco2"
   },
   "source": [
    "**Solution**"
   ]
  },
  {
   "cell_type": "code",
   "execution_count": null,
   "metadata": {
    "collapsed": false,
    "id": "JrUhw80inco2",
    "jupyter": {
     "outputs_hidden": false
    }
   },
   "outputs": [],
   "source": [
    "print(\"I was about \" + str(7) + \" years old when I learned to ride a bike.\")"
   ]
  },
  {
   "cell_type": "markdown",
   "metadata": {},
   "source": [
    "### Excercise #4\n",
    "---\n",
    "\n",
    "**Problem:** Ask the user their name and then print out \"Hello\" and their name."
   ]
  },
  {
   "cell_type": "markdown",
   "metadata": {},
   "source": [
    "**Solution**"
   ]
  },
  {
   "cell_type": "code",
   "execution_count": 8,
   "metadata": {},
   "outputs": [
    {
     "name": "stdin",
     "output_type": "stream",
     "text": [
      "What is your name? Phil\n"
     ]
    },
    {
     "name": "stdout",
     "output_type": "stream",
     "text": [
      "Hello Phil\n"
     ]
    }
   ],
   "source": [
    "name = input(\"What is your name?\")\n",
    "print(\"Hello\", name)"
   ]
  },
  {
   "cell_type": "markdown",
   "metadata": {
    "id": "JW9UWAQ7BP3f"
   },
   "source": [
    "# Variables\n",
    "---\n",
    "\n",
    "### **Concepts**\n",
    "\n",
    "1. Variables\n",
    "2. Data Types\n",
    "3. Printing Variables\n",
    "\n",
    "**Variable**: containers for storing data values\n",
    "\n",
    "#### Python Data Types:\n",
    "**Variables**\n",
    "\n",
    "* Python Immutability (things can be changed)\n",
    "* Value/none (None) : `None`\n",
    "\n",
    "**Number**\n",
    "\n",
    "* Integers (int) : `1`\n",
    "* Float (float) : `0.1`\n",
    "\n",
    "**Characters**\n",
    "\n",
    "* String (str) `\"I'm a string\"`\n",
    "\n",
    "**Boolean**\n",
    "\n",
    "* True/False (bool) `True` or `False`\n",
    "\n",
    "**Composite Types**\n",
    "* Lists (list) `[\"list\", \"of\", \"strings\"]`\n",
    "* Dictionaries (dict) `{\"key\": value, \"key2\": value2}`\n",
    "\n",
    "\n",
    "#### Casting one type to another\n",
    "\n",
    "Strings to Integers\n",
    "```python\n",
    "this_is_a_string = str(1100)\n",
    "```\n",
    "Integers to Strings\n",
    "```python\n",
    "this_is_an_int = int(\"1100\")\n",
    "```\n",
    "Integers to Floats\n",
    "```python\n",
    "this_is_a_float = float(10)\n",
    "```\n",
    "Floats to Integers\n",
    "```python\n",
    "this_is_an_int = int(10.2)\n",
    "```"
   ]
  },
  {
   "cell_type": "markdown",
   "metadata": {
    "id": "yAqswP3QBczI"
   },
   "source": [
    "### Exercise #1\n",
    "\n",
    "---\n",
    "\n",
    "**Problem**: Name a variable `lucky` and assign it to your lucky number.\n",
    "\n"
   ]
  },
  {
   "cell_type": "markdown",
   "metadata": {
    "id": "Ls2-l-wLCuL3"
   },
   "source": [
    "**Solution**"
   ]
  },
  {
   "cell_type": "code",
   "execution_count": null,
   "metadata": {
    "collapsed": false,
    "id": "RLYC7tHiCvxt",
    "jupyter": {
     "outputs_hidden": false
    }
   },
   "outputs": [],
   "source": [
    "lucky = 33"
   ]
  },
  {
   "cell_type": "markdown",
   "metadata": {
    "id": "1n29Z21KEumw"
   },
   "source": [
    "### Exercise #2\n",
    "---\n",
    "**Problem**: Convert the float, 89.668 to an integer."
   ]
  },
  {
   "cell_type": "markdown",
   "metadata": {
    "id": "JEu7ZtvtEyd1"
   },
   "source": [
    "**Solution**"
   ]
  },
  {
   "cell_type": "code",
   "execution_count": null,
   "metadata": {
    "collapsed": false,
    "id": "_1dY6nLtE8Yk",
    "jupyter": {
     "outputs_hidden": false
    }
   },
   "outputs": [],
   "source": [
    "int(89.668)"
   ]
  },
  {
   "cell_type": "markdown",
   "metadata": {
    "id": "-ExPBv3kE5rM"
   },
   "source": [
    "### Exercise #3\n",
    "---\n",
    "**Problem**: Create a variable `height` and assign it to value 5.3. Create a variable `days` and assign it to value 10. Print a sentence that states that your plant has grown 5.3 inches in 10 days."
   ]
  },
  {
   "cell_type": "markdown",
   "metadata": {
    "id": "lXWGImr8E1Bd"
   },
   "source": [
    "**Solution**"
   ]
  },
  {
   "cell_type": "code",
   "execution_count": null,
   "metadata": {
    "collapsed": false,
    "id": "W5Xh8hXgE9Gm",
    "jupyter": {
     "outputs_hidden": false
    }
   },
   "outputs": [],
   "source": [
    "height = 5.3\n",
    "days = 10\n",
    "print(\"My plant has grown \" + str(height) + \" inches in \" + str(days) + \".\")"
   ]
  },
  {
   "cell_type": "markdown",
   "metadata": {
    "id": "vaBnbO5eqGgE"
   },
   "source": [
    "### Exercise #4\n",
    "---\n",
    "**Problem**: Create a variable `cities` and assign it to a list of your favorite cities"
   ]
  },
  {
   "cell_type": "markdown",
   "metadata": {
    "id": "aZ50vhS6qV1Q"
   },
   "source": [
    "**Solution**"
   ]
  },
  {
   "cell_type": "code",
   "execution_count": null,
   "metadata": {},
   "outputs": [],
   "source": [
    "cities = [\"London\", \"New York\", \"Budapest\"]"
   ]
  },
  {
   "cell_type": "markdown",
   "metadata": {},
   "source": [
    "# Arithmetic Cheatsheet\n",
    "---\n",
    "| Name | Symbol | Meaning|\n",
    "| - | - | - |\n",
    "| Addition | + | Add numbers | \n",
    "| Subtraction | - | Minus numbers |\n",
    "| Multiplication | * | Muliply numbers |\n",
    "| Division | / | Divide numbers |\n",
    "| Modulus | % | Find the remainder of a division (e.g. 5 % 6 = 1) |\n",
    "| Equal to | == | Returns True if A is equal in value to B |\n",
    "| Not Equal | != | Returns True if A is not equal in value to B |\n",
    "| Greater than | > | Returns True if A is a bigger number than B |\n",
    "| Less than | < | Returns True if A is a smaller number than B |\n",
    "| Greater than or equal | >= | Returns True if A is greater than or equal to B |\n",
    "| Less than or equal | >= | Returns True if A is less than or equal to B |\n"
   ]
  },
  {
   "cell_type": "markdown",
   "metadata": {
    "id": "cnZz9qM0yFV1"
   },
   "source": [
    "# Conditionals\n",
    "---\n",
    "\n",
    "### **Concepts**\n",
    "\n",
    "Conditionals\n",
    "  - If, else, elif"
   ]
  },
  {
   "cell_type": "markdown",
   "metadata": {
    "id": "FJQZtesOyFV1"
   },
   "source": [
    "### Exercise #1\n",
    "---\n",
    "**Problem**: Ask the user to enter their test grade. If the grade is a 65 or over, tell them they passed. If the grade is below a 65 tell them they did not pass."
   ]
  },
  {
   "cell_type": "markdown",
   "metadata": {
    "id": "1k7Z8SOoyFV2"
   },
   "source": [
    "**Solution**"
   ]
  },
  {
   "cell_type": "code",
   "execution_count": null,
   "metadata": {
    "collapsed": false,
    "id": "58Hm9j9CyFV2",
    "jupyter": {
     "outputs_hidden": false
    }
   },
   "outputs": [],
   "source": [
    "grade = int(input(\"What did you get on the test?\"))\n",
    "\n",
    "if grade >= 65:\n",
    "    print(\"Congrats! You passed!\")\n",
    "else:\n",
    "    print(\"Sorry, you did not pass.\")"
   ]
  },
  {
   "cell_type": "markdown",
   "metadata": {
    "id": "W1flKJidyFV6"
   },
   "source": [
    "### Exercise #2\n",
    "---\n",
    "**Problem**: Ask the user to input how many seashells they collected. If they have 3 seashells, tell them to give 1 seashell to their friend. If they have more than 3 seashells, tell them to give their friend 2 seashells. If they have less than 3 seashells, tell them to keep them for themselves."
   ]
  },
  {
   "cell_type": "markdown",
   "metadata": {
    "id": "ijrrxVbuyFV6"
   },
   "source": [
    "**Solution**"
   ]
  },
  {
   "cell_type": "code",
   "execution_count": null,
   "metadata": {
    "collapsed": false,
    "id": "_xtbp4z-yFV7",
    "jupyter": {
     "outputs_hidden": false
    }
   },
   "outputs": [],
   "source": [
    "seashells = int(input(\"How many seashells do you have?\"))\n",
    "\n",
    "if seashells == 3:\n",
    "    print(\"Give your friend a seashell.\")\n",
    "elif seashells > 3:\n",
    "    print(\"Give your friend 2 seashells.\")\n",
    "else:\n",
    "    print(\"Keep the seashells for yourself.\")"
   ]
  },
  {
   "cell_type": "markdown",
   "metadata": {
    "id": "tjjfn0YByFV-"
   },
   "source": [
    "### Exercise #3\n",
    "---\n",
    "**Problem**: Ask the user what they like the LEAST out of the colors green, purple, and orange. If their least favorite is also your least favorite print \"Me too!.\" If not, print \"I disagree.\""
   ]
  },
  {
   "cell_type": "markdown",
   "metadata": {
    "id": "0huF0yWayFV-"
   },
   "source": [
    "**Solution**"
   ]
  },
  {
   "cell_type": "code",
   "execution_count": null,
   "metadata": {
    "collapsed": false,
    "id": "0eryQ8H8yFV-",
    "jupyter": {
     "outputs_hidden": false
    }
   },
   "outputs": [],
   "source": [
    "color = str(input(\"What color do you like the least out of: green, purple, orange?\"))\n",
    "\n",
    "if color == \"orange\":\n",
    "    print(\"Me too!\")\n",
    "else:\n",
    "    print(\"I disagree.\")"
   ]
  },
  {
   "cell_type": "markdown",
   "metadata": {
    "id": "wpRhp_vL1ezZ"
   },
   "source": [
    "# For Loops\n",
    "---\n",
    "\n",
    "### **Concepts**\n",
    "\n",
    "1. For Loops\n",
    "2. Range Function\n",
    "3. Pass \n",
    "\n",
    "**iterable**: something whose elements are able to be looked through (ex: lists, strings)\n",
    "\n",
    "**loop body**: the code that is executed inside the loop"
   ]
  },
  {
   "cell_type": "markdown",
   "metadata": {
    "id": "ifB1gFm41ezb"
   },
   "source": [
    "### Exercise #1\n",
    "---\n",
    "**Problem**: Print the product of the numbers in the list `numbers`."
   ]
  },
  {
   "cell_type": "code",
   "execution_count": null,
   "metadata": {
    "collapsed": false,
    "id": "8IhXiLc42zT4",
    "jupyter": {
     "outputs_hidden": false
    }
   },
   "outputs": [],
   "source": [
    "numbers = [1, 5, 7, 3]"
   ]
  },
  {
   "cell_type": "markdown",
   "metadata": {
    "id": "IgGrZG7O1ezc"
   },
   "source": [
    "**Solution**"
   ]
  },
  {
   "cell_type": "code",
   "execution_count": null,
   "metadata": {
    "collapsed": false,
    "id": "MdvYq4Qd1ezc",
    "jupyter": {
     "outputs_hidden": false
    }
   },
   "outputs": [],
   "source": [
    "numbers = [1, 5, 7, 3]\n",
    "product = 1;\n",
    "\n",
    "for num in numbers:\n",
    "    product = product * num\n",
    "\n",
    "print(product)"
   ]
  },
  {
   "cell_type": "markdown",
   "metadata": {
    "id": "Vx2Q3kNl1ezg"
   },
   "source": [
    "### Exercise #2\n",
    "---\n",
    "**Problem**: Print 0, 1, 2, 3, 0, 1, 2, 3 using two for loops (commas not necessary)."
   ]
  },
  {
   "cell_type": "markdown",
   "metadata": {
    "id": "HN4aD45h1ezg"
   },
   "source": [
    "**Solution**"
   ]
  },
  {
   "cell_type": "code",
   "execution_count": null,
   "metadata": {
    "collapsed": false,
    "id": "KVdtI1rW1ezh",
    "jupyter": {
     "outputs_hidden": false
    }
   },
   "outputs": [],
   "source": [
    "for x in range(2):\n",
    "    for i in range(4):\n",
    "        print(i)"
   ]
  },
  {
   "cell_type": "markdown",
   "metadata": {
    "id": "dDsiPqtW1ezj"
   },
   "source": [
    "### Exercise #3\n",
    "---\n",
    "**Problem**: Print the sum of the even numbers from 4 to 9."
   ]
  },
  {
   "cell_type": "markdown",
   "metadata": {
    "id": "6rgNwT5g1ezk"
   },
   "source": [
    "**Solution**"
   ]
  },
  {
   "cell_type": "code",
   "execution_count": null,
   "metadata": {
    "collapsed": false,
    "id": "DcwWFrq91ezk",
    "jupyter": {
     "outputs_hidden": false
    }
   },
   "outputs": [],
   "source": [
    "add = 0\n",
    "for x in range(4, 10):\n",
    "    if x % 2 == 0:\n",
    "        add = add + x\n",
    "print(add)"
   ]
  },
  {
   "cell_type": "markdown",
   "metadata": {},
   "source": [
    "### Exercise #4\n",
    "---\n",
    "**Problem**: Iterate through the numbers to 20, print out the evens and `pass` on the oddd"
   ]
  },
  {
   "cell_type": "markdown",
   "metadata": {},
   "source": [
    "**Solution**"
   ]
  },
  {
   "cell_type": "code",
   "execution_count": null,
   "metadata": {},
   "outputs": [],
   "source": [
    "for i in range(20):\n",
    "    if i % 2 == 0:\n",
    "        print(i)\n",
    "    else:\n",
    "        pass"
   ]
  },
  {
   "cell_type": "markdown",
   "metadata": {
    "id": "0HtAA1j14GpZ"
   },
   "source": [
    "#  While and Infinite Loops\n",
    "---\n",
    "\n",
    "\n",
    "**terminating condition**: the condition under which the loop is done executing\n",
    "\n",
    "**loop body**: the code that is executed inside the loop\n",
    "\n",
    "### **Concepts**\n",
    "\n",
    "1. While Loops\n",
    "2. Break\n",
    "3. Continue\n",
    "4. Infinite Loops"
   ]
  },
  {
   "cell_type": "markdown",
   "metadata": {
    "id": "TH6Zu4fW4Gpa"
   },
   "source": [
    "### Exercise #1\n",
    "---\n",
    "**Problem**: Ask the user to enter an integer. If the integer is not evenly divisible by 3, ask them for another number. If it is evenly divisible by 3, the loop terminates."
   ]
  },
  {
   "cell_type": "markdown",
   "metadata": {
    "id": "QpNM_J3N4Gpa"
   },
   "source": [
    "**Solution**"
   ]
  },
  {
   "cell_type": "code",
   "execution_count": null,
   "metadata": {
    "collapsed": false,
    "id": "pccS6IYt4Gpb",
    "jupyter": {
     "outputs_hidden": false
    }
   },
   "outputs": [],
   "source": [
    "num = 1\n",
    "while (num % 3 != 0):\n",
    "    num = int(input(\"Input a number: \"))"
   ]
  },
  {
   "cell_type": "markdown",
   "metadata": {
    "id": "WXKV_7LK4Gpf"
   },
   "source": [
    "### Exercise #2\n",
    "---\n",
    "**Problem**: Create a while loop that would print all integers between 10 and 30 (not inclusive), but use the `continue` statement to skip 20. Make the loop terminate when it reaches 28 using the `break` statement."
   ]
  },
  {
   "cell_type": "markdown",
   "metadata": {
    "id": "LWiVgq3M4Gpf"
   },
   "source": [
    "**Solution**"
   ]
  },
  {
   "cell_type": "code",
   "execution_count": null,
   "metadata": {
    "collapsed": false,
    "id": "JSjY23js4Gpf",
    "jupyter": {
     "outputs_hidden": false
    }
   },
   "outputs": [],
   "source": [
    "num = 10\n",
    "while (num < 30):\n",
    "    num += 1\n",
    "    if num == 20:\n",
    "        continue\n",
    "    if num == 28:\n",
    "        break\n",
    "    print(num)"
   ]
  },
  {
   "cell_type": "markdown",
   "metadata": {
    "id": "i4ghC7v64Gpi"
   },
   "source": [
    "### Exercise #3\n",
    "---\n",
    "**Problem**: Fix this snippet of code so that it prints the positive numbers less than 10, but not 2, instead of looping indefinitely."
   ]
  },
  {
   "cell_type": "code",
   "execution_count": null,
   "metadata": {
    "collapsed": false,
    "id": "EEQ1gyo46j1r",
    "jupyter": {
     "outputs_hidden": false
    }
   },
   "outputs": [],
   "source": [
    "num = 9\n",
    "while (num < 10):\n",
    "    print(num)\n",
    "    num = num - 1"
   ]
  },
  {
   "cell_type": "markdown",
   "metadata": {
    "id": "ZVV2YDUV4Gpi"
   },
   "source": [
    "**Solution**"
   ]
  },
  {
   "cell_type": "code",
   "execution_count": null,
   "metadata": {
    "collapsed": false,
    "id": "GRN3K0p94Gpi",
    "jupyter": {
     "outputs_hidden": false
    }
   },
   "outputs": [],
   "source": [
    "num = 10\n",
    "while (num < 11 and num > 1):\n",
    "    num = num - 1\n",
    "    if (num == 2):\n",
    "        continue\n",
    "    print(num)"
   ]
  },
  {
   "cell_type": "markdown",
   "metadata": {
    "id": "imZ1JbjN75OD"
   },
   "source": [
    "# Functions\n",
    "---\n",
    "\n",
    "### **Concepts**\n",
    "\n",
    "1. Functions\n",
    "2. Parameters\n",
    "3. Return/Function Output\n",
    "\n",
    "**function**: a named section of a program that performs a specific task\n",
    "\n",
    "The parts of a function are as follows: \n",
    "* the `def` keyword, which says you are about to define a function\n",
    "* A function name\n",
    "* A set of parenthesis\n",
    "* Parameters (optional)\n",
    "* A colon after the parenthesis\n",
    "* A x line function body\n",
    "* Optional `return` value"
   ]
  },
  {
   "cell_type": "markdown",
   "metadata": {
    "id": "7L0qtjaP75OD"
   },
   "source": [
    "### Exercise #1\n",
    "---\n",
    "**Problem**: Write a function `multiply` that takes two integer parameters and prints the product of them."
   ]
  },
  {
   "cell_type": "markdown",
   "metadata": {
    "id": "iSj3wZ2i75OE"
   },
   "source": [
    "**Solution**"
   ]
  },
  {
   "cell_type": "code",
   "execution_count": null,
   "metadata": {
    "collapsed": false,
    "id": "iaUEIvd275OE",
    "jupyter": {
     "outputs_hidden": false
    }
   },
   "outputs": [],
   "source": [
    "def multiply(x, y):\n",
    "    product = x * y\n",
    "    print(product)"
   ]
  },
  {
   "cell_type": "markdown",
   "metadata": {
    "id": "dmrL6c1w75OI"
   },
   "source": [
    "### Exercise #2\n",
    "---\n",
    "**Problem**: What are the parameters of the following function?"
   ]
  },
  {
   "cell_type": "code",
   "execution_count": null,
   "metadata": {
    "collapsed": false,
    "id": "TKchADy-9iSd",
    "jupyter": {
     "outputs_hidden": false
    }
   },
   "outputs": [],
   "source": [
    "def hello():\n",
    "    print(\"Hello, there! I hope you like this lesson!\")"
   ]
  },
  {
   "cell_type": "markdown",
   "metadata": {
    "id": "XCt18zdK75OJ"
   },
   "source": [
    "**Solution**"
   ]
  },
  {
   "cell_type": "markdown",
   "metadata": {
    "id": "YTOv57EJ9paR"
   },
   "source": [
    "There are no parameters."
   ]
  },
  {
   "cell_type": "markdown",
   "metadata": {
    "id": "BMv_zooO_4AM"
   },
   "source": [
    "### Exercise #3\n",
    "---\n",
    "**Problem**: Create a function `name` that asks a user for their name, stores it in a variable, and returns that variable. Call the function by printing the sentence: \"Your name is X.\""
   ]
  },
  {
   "cell_type": "markdown",
   "metadata": {
    "id": "FMBQ4quk_4AS"
   },
   "source": [
    "**Solution**"
   ]
  },
  {
   "cell_type": "code",
   "execution_count": null,
   "metadata": {
    "collapsed": false,
    "id": "ETB_g4V2_4AP",
    "jupyter": {
     "outputs_hidden": false
    }
   },
   "outputs": [],
   "source": [
    "def name():\n",
    "    n = input(\"What is your name?\")\n",
    "    return n\n",
    "\n",
    "print(\"Your name is \" + str(name()) + \".\")"
   ]
  },
  {
   "cell_type": "markdown",
   "metadata": {},
   "source": [
    "# Test your python knowledge!\n",
    "---\n",
    "## Problem: Merge two sorted lists\n",
    "You are given two sorted lists: `list1` and `list2`, your task is to make a function that combines them into a single sorted list.\n",
    "\n",
    "### Example 1\n",
    "```python\n",
    "Input: list1 = [0,5,6], list2 = [1,2,7]\n",
    "Output: [0,1,2,5,6,7]\n",
    "```\n",
    "\n",
    "### Example 2\n",
    "```python\n",
    "Input: list1 = [], list2 = []\n",
    "Output: []\n",
    "```\n"
   ]
  },
  {
   "cell_type": "code",
   "execution_count": 1,
   "metadata": {},
   "outputs": [],
   "source": [
    "def merge_lists(list1, list2):\n",
    "    return merged_list"
   ]
  },
  {
   "cell_type": "markdown",
   "metadata": {
    "tags": []
   },
   "source": [
    "# Harder Problem: Mulitply Strings (Big numbers)\n",
    "\n",
    "In python3 integers will automatically resize as required so there is no longer a worry about overflow!\n",
    "Having said that, we are going to pretend that `int` has a max size of `9223372036854775807` (the biggest number 64 bits can hold) \n",
    "If you're curious pass that number in `bin()` the python builtin binary converter.\n",
    "\n",
    "Imagine we had to make a big number multiplier that takes in two strings: `num1` and `num2`.\n",
    "\n",
    "Without converting the inputs to integers directly, make a multiplier that can return a string of the product of the inputs.\n",
    "\n",
    "### Example 1\n",
    "```python\n",
    "Input: num1 = \"10\", num2 = \"12\"\n",
    "Output: \"120\"\n",
    "```"
   ]
  },
  {
   "cell_type": "code",
   "execution_count": 33,
   "metadata": {},
   "outputs": [],
   "source": [
    "def multiply_strings(num1 : str, num2 : str) -> str:\n",
    "    len1, len2 = len(num1) -1, len(num2)-1\n",
    "    \n",
    "    def reverse(string):\n",
    "        rev = \"\"\n",
    "        for ch in string:\n",
    "            rev = ch + rev\n",
    "        return rev\n",
    "    \n",
    "    def mult(val1, val2):\n",
    "        return str(int(val1) * int(val2))\n",
    "    \n",
    "    def add(val1, val2):\n",
    "        return str(int(val1) + int(val2))\n",
    "\n",
    "    def insert(out, val, place):\n",
    "        try:\n",
    "            out[place] = val\n",
    "        except:\n",
    "            out.append(val)\n",
    "    \n",
    "    def add_insert(out_str, prod, place):\n",
    "        # reverse string\n",
    "        prod = reverse(prod)\n",
    "        try:\n",
    "            position_val = out_str[place]\n",
    "        except:\n",
    "            position_val = \"0\"\n",
    "        if len(prod) > 1:\n",
    "            insert(out_str, add(position_val, prod[0]), place)\n",
    "            insert(out_str, add(position_val, prod[1]), place+1)\n",
    "        elif len(prod) == 1:\n",
    "            insert(out_str, add(position_val, prod[0]), place)\n",
    "        else:\n",
    "            print(\"error\")\n",
    "            \n",
    "    product = []\n",
    "    for place2 in range(len2):\n",
    "        for place1 in range(len1):\n",
    "            prod_place = place1 + place2\n",
    "            step_prod = mult(num1[len1 - place1], num2[len2 - place2])\n",
    "            add_insert(product, step_prod, prod_place)\n",
    "            \n",
    "    return reverse(\"\".join(product))"
   ]
  },
  {
   "cell_type": "code",
   "execution_count": 37,
   "metadata": {},
   "outputs": [
    {
     "name": "stdout",
     "output_type": "stream",
     "text": [
      "121\n",
      "12321\n"
     ]
    }
   ],
   "source": [
    "testa, testb = \"111\",\"111\"\n",
    "print(multiply_strings(testa, testb))\n",
    "print(int(testa) * int(testb))"
   ]
  },
  {
   "cell_type": "markdown",
   "metadata": {
    "jp-MarkdownHeadingCollapsed": true,
    "tags": []
   },
   "source": [
    "### © 2022 The Coding School\n",
    "\n",
    "**All rights reserved**\n",
    "\n",
    "*Use of this activity is for personal use only. Copying, reproducing, distributing, posting or sharing this activity in any manner with any third party are prohibited under the terms of this registration. All rights not specifically licensed under the registration are reserved.*"
   ]
  }
 ],
 "metadata": {
  "kernelspec": {
   "display_name": "Python 3 (ipykernel)",
   "language": "python",
   "name": "python3"
  },
  "language_info": {
   "codemirror_mode": {
    "name": "ipython",
    "version": 3
   },
   "file_extension": ".py",
   "mimetype": "text/x-python",
   "name": "python",
   "nbconvert_exporter": "python",
   "pygments_lexer": "ipython3",
   "version": "3.9.5"
  }
 },
 "nbformat": 4,
 "nbformat_minor": 4
}
