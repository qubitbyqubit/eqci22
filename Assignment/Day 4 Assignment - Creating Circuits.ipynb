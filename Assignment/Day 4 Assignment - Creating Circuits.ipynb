{
 "cells": [
  {
   "cell_type": "markdown",
   "metadata": {
    "tags": []
   },
   "source": [
    "<div class=\"alert alert-info\">\n",
    "    <h1><strong>EQCI Day 4: </strong>Assignment</h1>\n",
    "    <h2>Practice Creating Circuits</h2>\n",
    "</div>"
   ]
  },
  {
   "cell_type": "code",
   "execution_count": 2,
   "metadata": {
    "id": "ILE8h22-Dt9F"
   },
   "outputs": [
    {
     "name": "stdout",
     "output_type": "stream",
     "text": [
      "Libraries imported successfully!\n"
     ]
    }
   ],
   "source": [
    "# Imports!\n",
    "import numpy as np\n",
    "from qiskit import QuantumCircuit, execute, transpile, Aer, IBMQ\n",
    "from qiskit.visualization import *\n",
    "import matplotlib.pyplot as plt\n",
    "\n",
    "print(\"Libraries imported successfully!\")"
   ]
  },
  {
   "cell_type": "markdown",
   "metadata": {},
   "source": [
    "## Recreating Circuits \n",
    "\n",
    "This excercise is short but rather tedious. We want to get everyone really comfortable with creating circuits and manipulating the `QuantumCircuit` object.\n",
    "\n",
    "The first few questions will both verbally describe the circuit, and show an image of what the circuit diagram should look like.\n",
    "\n",
    "The next few questions will only verbally describe the circuit, this is to get everyone to understand what all the parts are referring to, and make some connections about what are sorts of steps are required.\n"
   ]
  },
  {
   "cell_type": "markdown",
   "metadata": {},
   "source": [
    "---\n",
    "## Question 1:\n",
    "---\n",
    "\n",
    "Create a `QuantumCircuit` with one qubit and one classical bit, apply an H gate and pass the `QuantumCircuit` into the `visualize_transition(qc, trace=True)` function.\n",
    "\n",
    "Your animation should look like this:\n",
    "\n",
    "![H_gate Anim](../qxq/static/h_gate.gif)"
   ]
  },
  {
   "cell_type": "code",
   "execution_count": null,
   "metadata": {},
   "outputs": [],
   "source": []
  },
  {
   "cell_type": "markdown",
   "metadata": {},
   "source": [
    "---\n",
    "## Question 2:\n",
    "---\n",
    "Create a `QuantumCircuit` with one qubit and one classical bit, apply an H, and then a Z gate and pass the `QuantumCircuit` into the `visualize_transition(qc, trace=True)` function.\n",
    "\n",
    "Your animation should look like this:\n",
    "\n",
    "![HZ_gate Anim](../qxq/static/hz_gate.gif)"
   ]
  },
  {
   "cell_type": "code",
   "execution_count": null,
   "metadata": {},
   "outputs": [],
   "source": []
  },
  {
   "cell_type": "markdown",
   "metadata": {},
   "source": [
    "---\n",
    "## Question 3:\n",
    "---\n",
    "Create a `QuantumCircuit` with two qubits and two classical bits, apply an H to each qubit and measure both. Draw a circuit diagram of the resultant circuit.\n",
    "\n",
    "\n",
    "Your circuit diagram should look like this:\n",
    "\n",
    "<img src=\"../qxq/static/hh_circ.png\" alt=\"HH_circ\" width=\"400\"/>\n"
   ]
  },
  {
   "cell_type": "code",
   "execution_count": null,
   "metadata": {},
   "outputs": [],
   "source": []
  },
  {
   "cell_type": "markdown",
   "metadata": {},
   "source": [
    "---\n",
    "## Question 4:\n",
    "---\n",
    "\n",
    "Create a `QuantumCircuit` with four qubits and four classical bits, apply:\n",
    "an H,Y,Z,H to qubits 0,1,2,3 respectively. \n",
    "Measure all qubits out to their respective classical bits\n",
    "\n",
    "Your circuit diagram should look like this:\n",
    "\n",
    "<img src=\"../qxq/static/xyzh_circ.png\" alt=\"xyzh_circ\" width=\"400\"/>"
   ]
  },
  {
   "cell_type": "code",
   "execution_count": null,
   "metadata": {},
   "outputs": [],
   "source": []
  },
  {
   "cell_type": "markdown",
   "metadata": {},
   "source": [
    "---\n",
    "## Question 5:\n",
    "---\n",
    "\n",
    "Using Control gates, in lecture we saw controlled not gate CNOT - written as CX in qiskit. \n",
    "\n",
    "Make a two qubit, two classical bit circuit with a cx gate that qubit 0 as its control and qubit 1 as its target.\n",
    "Measure both qubits to their respective classical bits.\n",
    "\n",
    "Draw your circuit diagram, it should look like this:\n",
    "\n",
    "\n",
    "<img src=\"../qxq/static/q5_circ.png\" alt=\"xyzh_circ\" width=\"400\"/>\n",
    "\n"
   ]
  },
  {
   "cell_type": "code",
   "execution_count": 13,
   "metadata": {},
   "outputs": [
    {
     "data": {
      "image/png": "[encoded data removed]",
      "text/plain": [
       "<Figure size 293.304x409.36 with 1 Axes>"
      ]
     },
     "execution_count": 13,
     "metadata": {},
     "output_type": "execute_result"
    }
   ],
   "source": []
  },
  {
   "cell_type": "markdown",
   "metadata": {},
   "source": [
    "## Question 6:\n",
    "---\n",
    "\n",
    "Now it's your turn to read the diagram and recreate it!\n",
    "\n",
    "recreate this circuit from the image:\n",
    "\n",
    "<img src=\"../qxq/static/q6_circ.png\" width=\"800\"/>"
   ]
  },
  {
   "cell_type": "code",
   "execution_count": null,
   "metadata": {},
   "outputs": [],
   "source": []
  },
  {
   "cell_type": "markdown",
   "metadata": {},
   "source": [
    "## Challenge Question 7: (optional)\n",
    "---\n",
    "Recreating the **toffoli** gate.\n",
    "\n",
    "#### Don't worry about the specifics of what these gates do! Just try and recreate the picture!\n",
    "\n",
    "The toffoli gate is a controlled, controlled, not gate! It requires two inputs to be 1 in order to trigger.\n",
    "\n",
    "A couple new things:\n",
    "\n",
    "T Gates: Like a Z gate but only rotates $\\pi / 4$ around the Z axis\n",
    "\n",
    "**syntax:** `QuantumCircuit.t(qubit)`\n",
    "\n",
    "<img src=\"../qxq/static/t_gate.png\" alt=\"toffoli\" width=\"200\"/>\n",
    "\n",
    "T Dag Gates: Like a Z gate but only rotates $-\\pi / 4$ around the Z axis\n",
    "\n",
    "**syntax:** `QuantumCircuit.tdg(qubit)`\n",
    "\n",
    "<img src=\"../qxq/static/tdag_gate.png\" alt=\"toffoli\" width=\"200\"/>\n",
    "\n",
    "S Gates: Like a Z gate but only rotates $\\pi / 2$ around the Z axis \n",
    "\n",
    "**syntax:** `QuantumCircuit.s(qubit)`\n",
    "\n",
    "<img src=\"../qxq/static/s_gate.png\" alt=\"toffoli\" width=\"200\"/>\n",
    "\n",
    "\n",
    "### The Toffoli gate looks like this:\n",
    "\n",
    "<img src=\"../qxq/static/toff.png\" alt=\"toffoli\" width=\"200\"/>\n",
    "\n",
    "But it can be decomposed into 2 qubit gates like the following:\n",
    "\n",
    "<img src=\"../qxq/static/toff_dec.png\" alt=\"toff_dec\" width=\"850\"/>\n",
    "\n",
    "#### Try and recreate the circuit!"
   ]
  },
  {
   "cell_type": "code",
   "execution_count": null,
   "metadata": {},
   "outputs": [],
   "source": []
  },
  {
   "cell_type": "markdown",
   "metadata": {
    "jp-MarkdownHeadingCollapsed": true,
    "tags": []
   },
   "source": [
    "### © 2022 The Coding School\n",
    "\n",
    "**All rights reserved**\n",
    "\n",
    "*Use of this activity is for personal use only. Copying, reproducing, distributing, posting or sharing this activity in any manner with any third party are prohibited under the terms of this registration. All rights not specifically licensed under the registration are reserved.*"
   ]
  }
 ],
 "metadata": {
  "kernelspec": {
   "display_name": "Python 3 (ipykernel)",
   "language": "python",
   "name": "python3"
  },
  "language_info": {
   "codemirror_mode": {
    "name": "ipython",
    "version": 3
   },
   "file_extension": ".py",
   "mimetype": "text/x-python",
   "name": "python",
   "nbconvert_exporter": "python",
   "pygments_lexer": "ipython3",
   "version": "3.9.5"
  }
 },
 "nbformat": 4,
 "nbformat_minor": 4
}
